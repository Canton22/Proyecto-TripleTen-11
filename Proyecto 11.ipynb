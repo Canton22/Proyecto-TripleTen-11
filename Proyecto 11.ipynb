{
 "cells": [
  {
   "cell_type": "markdown",
   "metadata": {},
   "source": [
    "<div class=\"alert alert-block alert-danger\">\n",
    "<b>Comentario general del revisor</b> <a class=\"tocSkip\"></a><br />\n",
    "Status del proyecto: <b>No aprobado</b>\n",
    "\n",
    "Has tenido un buen inicio de proyecto, el avance es muy grande, existe un error casi al final el cual debe ser corregido. Si tienes alguna pregunta me puedes dejar un mensaje y con gusto te responderé\n",
    "</div>\n"
   ]
  },
  {
   "cell_type": "markdown",
   "metadata": {},
   "source": [
    "¡Hola!<br />\n",
    "Soy **Francisco Cortés**, estoy contento de revisar tu proyecto y ser parte de tu proceso de aprendizaje.\n",
    "A lo largo del texto, haré algunas observaciones sobre mejoras en el código y también haré comentarios sobre tus percepciones sobre el tema. Si existe algún error en el código, no te preocupes, estoy aquí para ayudarte a mejorarlo, en la primera iteración te lo señalaré para que tengas la oportunidad de corregirlo, pero si aún no encuentras una solución para esta tarea, te daré una pista más precisa en la próxima iteración y también algunos ejemplos prácticos. Estaré abierto a retroalimentación y discusiones sobre el tema.<br />\n",
    "Encontrarás mis comentarios a continuación - **por favor no los muevas, modifiques o borres**.\n",
    "Revisaré cuidadosamente tu código para comprobar que se han cumplido con los requisitos y te proporcionaré mis comentarios en cajas verdes, amarillas o rojas como esta:\n",
    "\n",
    "<div class=\"alert alert-block alert-success\">\n",
    "<b>Comentario del revisor</b> <a class=\"tocSkip\"></a>\n",
    "\n",
    "Si la ejecución fue perfecta succesfully.\n",
    "</div>\n",
    "\n",
    "<div class=\"alert alert-block alert-warning\">\n",
    "<b>Comentario del revisor</b> <a class=\"tocSkip\"></a>\n",
    "\n",
    "Si existe alguna recomendación para que tu código mejore.\n",
    "</div>\n",
    "\n",
    "<div class=\"alert alert-block alert-danger\">\n",
    "\n",
    "<b>Comentario del revisor</b> <a class=\"tocSkip\"></a>\n",
    "\n",
    "Si existen correcciones necesarias para cumplir con los requisitos. El trabajo no puede ser aceptado si hay alguna caja roja.\n",
    "</div>\n",
    "\n",
    "Puedes responderme de la siguiente manera:\n",
    "\n",
    "<div class=\"alert alert-block alert-info\">\n",
    "<b>Respuesta del estudiante.</b> <a class=\"tocSkip\"></a>\n",
    "</div>"
   ]
  },
  {
   "cell_type": "markdown",
   "metadata": {},
   "source": [
    "# Sprint 11 - Proyecto"
   ]
  },
  {
   "cell_type": "markdown",
   "metadata": {},
   "source": [
    "### *INSTRUCCIONES*\n",
    "\n",
    "**Descripción del proyecto**\n",
    "\n",
    "Trabajas en la compañía de extracción de petróleo OilyGiant. Tu tarea es encontrar los mejores lugares donde abrir 200 pozos nuevos de petróleo.\n",
    "\n",
    "Para completar esta tarea, tendrás que realizar los siguientes pasos:\n",
    "\n",
    "Leer los archivos con los parámetros recogidos de pozos petrolíferos en la región seleccionada: calidad de crudo y volumen de reservas.\n",
    "Crear un modelo para predecir el volumen de reservas en pozos nuevos.\n",
    "Elegir los pozos petrolíferos que tienen los valores estimados más altos.\n",
    "Elegir la región con el beneficio total más alto para los pozos petrolíferos seleccionados.\n",
    "Tienes datos sobre muestras de crudo de tres regiones. Ya se conocen los parámetros de cada pozo petrolero de la región. Crea un modelo que ayude a elegir la región con el mayor margen de beneficio. Analiza los beneficios y riesgos potenciales utilizando la técnica bootstrapping."
   ]
  },
  {
   "cell_type": "markdown",
   "metadata": {},
   "source": [
    "**Condiciones:**\n",
    "\n",
    "Solo se debe usar la regresión lineal para el entrenamiento del modelo.\n",
    "Al explorar la región, se lleva a cabo un estudio de 500 puntos con la selección de los mejores 200 puntos para el cálculo del beneficio.\n",
    "El presupuesto para el desarrollo de 200 pozos petroleros es de 100 millones de dólares.\n",
    "Un barril de materias primas genera 4.5 USD de ingresos. El ingreso de una unidad de producto es de 4500 dólares (el volumen de reservas está expresado en miles de barriles).\n",
    "Después de la evaluación de riesgo, mantén solo las regiones con riesgo de pérdidas inferior al 2.5%. De las que se ajustan a los criterios, se debe seleccionar la región con el beneficio promedio más alto.\n",
    "Los datos son sintéticos: los detalles del contrato y las características del pozo no se publican."
   ]
  },
  {
   "cell_type": "markdown",
   "metadata": {},
   "source": [
    "#### 1.-Descarga y prepara los datos. Explica el procedimiento."
   ]
  },
  {
   "cell_type": "code",
   "execution_count": 1,
   "metadata": {},
   "outputs": [],
   "source": [
    "#importar librerias de pandas\n",
    "import pandas as pd\n",
    "import numpy as np\n",
    "import matplotlib as plt\n",
    "from matplotlib import pyplot as plt\n",
    "import seaborn as sns\n",
    "from sklearn.model_selection import train_test_split\n",
    "from sklearn.metrics import mean_squared_error\n",
    "from sklearn.linear_model import LinearRegression\n",
    "from sklearn.metrics import r2_score\n",
    "from scipy import stats as st"
   ]
  },
  {
   "cell_type": "code",
   "execution_count": 2,
   "metadata": {},
   "outputs": [],
   "source": [
    "#Descarga de archivos csv.\n",
    "geodata_0 = pd.read_csv(\"/datasets/geo_data_0.csv\")\n",
    "geodata_1 = pd.read_csv(\"/datasets/geo_data_1.csv\")\n",
    "geodata_2 = pd.read_csv(\"/datasets/geo_data_2.csv\")"
   ]
  },
  {
   "cell_type": "code",
   "execution_count": 3,
   "metadata": {
    "scrolled": true
   },
   "outputs": [
    {
     "name": "stdout",
     "output_type": "stream",
     "text": [
      "      id        f0        f1        f2     product\n",
      "0  txEyH  0.705745 -0.497823  1.221170  105.280062\n",
      "1  2acmU  1.334711 -0.340164  4.365080   73.037750\n",
      "2  409Wp  1.022732  0.151990  1.419926   85.265647\n",
      "3  iJLyR -0.032172  0.139033  2.978566  168.620776\n",
      "4  Xdl7t  1.988431  0.155413  4.751769  154.036647\n",
      "<class 'pandas.core.frame.DataFrame'>\n",
      "RangeIndex: 100000 entries, 0 to 99999\n",
      "Data columns (total 5 columns):\n",
      " #   Column   Non-Null Count   Dtype  \n",
      "---  ------   --------------   -----  \n",
      " 0   id       100000 non-null  object \n",
      " 1   f0       100000 non-null  float64\n",
      " 2   f1       100000 non-null  float64\n",
      " 3   f2       100000 non-null  float64\n",
      " 4   product  100000 non-null  float64\n",
      "dtypes: float64(4), object(1)\n",
      "memory usage: 3.8+ MB\n",
      "None\n"
     ]
    }
   ],
   "source": [
    "#visualizacion del primer df\n",
    "print(geodata_0.head())\n",
    "\n",
    "print(geodata_0.info())"
   ]
  },
  {
   "cell_type": "code",
   "execution_count": 4,
   "metadata": {},
   "outputs": [
    {
     "name": "stdout",
     "output_type": "stream",
     "text": [
      "      id         f0         f1        f2     product\n",
      "0  kBEdx -15.001348  -8.276000 -0.005876    3.179103\n",
      "1  62mP7  14.272088  -3.475083  0.999183   26.953261\n",
      "2  vyE1P   6.263187  -5.948386  5.001160  134.766305\n",
      "3  KcrkZ -13.081196 -11.506057  4.999415  137.945408\n",
      "4  AHL4O  12.702195  -8.147433  5.004363  134.766305\n",
      "<class 'pandas.core.frame.DataFrame'>\n",
      "RangeIndex: 100000 entries, 0 to 99999\n",
      "Data columns (total 5 columns):\n",
      " #   Column   Non-Null Count   Dtype  \n",
      "---  ------   --------------   -----  \n",
      " 0   id       100000 non-null  object \n",
      " 1   f0       100000 non-null  float64\n",
      " 2   f1       100000 non-null  float64\n",
      " 3   f2       100000 non-null  float64\n",
      " 4   product  100000 non-null  float64\n",
      "dtypes: float64(4), object(1)\n",
      "memory usage: 3.8+ MB\n",
      "None\n"
     ]
    }
   ],
   "source": [
    "#visualizacion del segundo df\n",
    "print(geodata_1.head())\n",
    "\n",
    "print(geodata_1.info())"
   ]
  },
  {
   "cell_type": "code",
   "execution_count": 5,
   "metadata": {},
   "outputs": [
    {
     "name": "stdout",
     "output_type": "stream",
     "text": [
      "      id        f0        f1        f2     product\n",
      "0  fwXo0 -1.146987  0.963328 -0.828965   27.758673\n",
      "1  WJtFt  0.262778  0.269839 -2.530187   56.069697\n",
      "2  ovLUW  0.194587  0.289035 -5.586433   62.871910\n",
      "3  q6cA6  2.236060 -0.553760  0.930038  114.572842\n",
      "4  WPMUX -0.515993  1.716266  5.899011  149.600746\n",
      "<class 'pandas.core.frame.DataFrame'>\n",
      "RangeIndex: 100000 entries, 0 to 99999\n",
      "Data columns (total 5 columns):\n",
      " #   Column   Non-Null Count   Dtype  \n",
      "---  ------   --------------   -----  \n",
      " 0   id       100000 non-null  object \n",
      " 1   f0       100000 non-null  float64\n",
      " 2   f1       100000 non-null  float64\n",
      " 3   f2       100000 non-null  float64\n",
      " 4   product  100000 non-null  float64\n",
      "dtypes: float64(4), object(1)\n",
      "memory usage: 3.8+ MB\n",
      "None\n"
     ]
    }
   ],
   "source": [
    "#visualizacion del tercer df\n",
    "print(geodata_2.head())\n",
    "\n",
    "print(geodata_2.info())"
   ]
  },
  {
   "cell_type": "code",
   "execution_count": 6,
   "metadata": {
    "scrolled": true
   },
   "outputs": [
    {
     "data": {
      "text/html": [
       "<div>\n",
       "<style scoped>\n",
       "    .dataframe tbody tr th:only-of-type {\n",
       "        vertical-align: middle;\n",
       "    }\n",
       "\n",
       "    .dataframe tbody tr th {\n",
       "        vertical-align: top;\n",
       "    }\n",
       "\n",
       "    .dataframe thead th {\n",
       "        text-align: right;\n",
       "    }\n",
       "</style>\n",
       "<table border=\"1\" class=\"dataframe\">\n",
       "  <thead>\n",
       "    <tr style=\"text-align: right;\">\n",
       "      <th></th>\n",
       "      <th>id</th>\n",
       "      <th>f0</th>\n",
       "      <th>f1</th>\n",
       "      <th>f2</th>\n",
       "      <th>product</th>\n",
       "    </tr>\n",
       "  </thead>\n",
       "  <tbody>\n",
       "    <tr>\n",
       "      <th>0</th>\n",
       "      <td>txEyH</td>\n",
       "      <td>0.705745</td>\n",
       "      <td>-0.497823</td>\n",
       "      <td>1.221170</td>\n",
       "      <td>105.280062</td>\n",
       "    </tr>\n",
       "    <tr>\n",
       "      <th>1</th>\n",
       "      <td>2acmU</td>\n",
       "      <td>1.334711</td>\n",
       "      <td>-0.340164</td>\n",
       "      <td>4.365080</td>\n",
       "      <td>73.037750</td>\n",
       "    </tr>\n",
       "    <tr>\n",
       "      <th>2</th>\n",
       "      <td>409Wp</td>\n",
       "      <td>1.022732</td>\n",
       "      <td>0.151990</td>\n",
       "      <td>1.419926</td>\n",
       "      <td>85.265647</td>\n",
       "    </tr>\n",
       "    <tr>\n",
       "      <th>3</th>\n",
       "      <td>iJLyR</td>\n",
       "      <td>-0.032172</td>\n",
       "      <td>0.139033</td>\n",
       "      <td>2.978566</td>\n",
       "      <td>168.620776</td>\n",
       "    </tr>\n",
       "    <tr>\n",
       "      <th>4</th>\n",
       "      <td>Xdl7t</td>\n",
       "      <td>1.988431</td>\n",
       "      <td>0.155413</td>\n",
       "      <td>4.751769</td>\n",
       "      <td>154.036647</td>\n",
       "    </tr>\n",
       "  </tbody>\n",
       "</table>\n",
       "</div>"
      ],
      "text/plain": [
       "      id        f0        f1        f2     product\n",
       "0  txEyH  0.705745 -0.497823  1.221170  105.280062\n",
       "1  2acmU  1.334711 -0.340164  4.365080   73.037750\n",
       "2  409Wp  1.022732  0.151990  1.419926   85.265647\n",
       "3  iJLyR -0.032172  0.139033  2.978566  168.620776\n",
       "4  Xdl7t  1.988431  0.155413  4.751769  154.036647"
      ]
     },
     "execution_count": 6,
     "metadata": {},
     "output_type": "execute_result"
    }
   ],
   "source": [
    "geodata_0.head()"
   ]
  },
  {
   "cell_type": "code",
   "execution_count": null,
   "metadata": {},
   "outputs": [],
   "source": []
  },
  {
   "cell_type": "code",
   "execution_count": 7,
   "metadata": {},
   "outputs": [
    {
     "data": {
      "text/html": [
       "<div>\n",
       "<style scoped>\n",
       "    .dataframe tbody tr th:only-of-type {\n",
       "        vertical-align: middle;\n",
       "    }\n",
       "\n",
       "    .dataframe tbody tr th {\n",
       "        vertical-align: top;\n",
       "    }\n",
       "\n",
       "    .dataframe thead th {\n",
       "        text-align: right;\n",
       "    }\n",
       "</style>\n",
       "<table border=\"1\" class=\"dataframe\">\n",
       "  <thead>\n",
       "    <tr style=\"text-align: right;\">\n",
       "      <th></th>\n",
       "      <th>id</th>\n",
       "      <th>f0</th>\n",
       "      <th>f1</th>\n",
       "      <th>f2</th>\n",
       "      <th>product</th>\n",
       "    </tr>\n",
       "  </thead>\n",
       "  <tbody>\n",
       "    <tr>\n",
       "      <th>0</th>\n",
       "      <td>txEyH</td>\n",
       "      <td>0.705745</td>\n",
       "      <td>-0.497823</td>\n",
       "      <td>1.221170</td>\n",
       "      <td>105.280062</td>\n",
       "    </tr>\n",
       "    <tr>\n",
       "      <th>1</th>\n",
       "      <td>2acmU</td>\n",
       "      <td>1.334711</td>\n",
       "      <td>-0.340164</td>\n",
       "      <td>4.365080</td>\n",
       "      <td>73.037750</td>\n",
       "    </tr>\n",
       "    <tr>\n",
       "      <th>2</th>\n",
       "      <td>409Wp</td>\n",
       "      <td>1.022732</td>\n",
       "      <td>0.151990</td>\n",
       "      <td>1.419926</td>\n",
       "      <td>85.265647</td>\n",
       "    </tr>\n",
       "    <tr>\n",
       "      <th>3</th>\n",
       "      <td>iJLyR</td>\n",
       "      <td>-0.032172</td>\n",
       "      <td>0.139033</td>\n",
       "      <td>2.978566</td>\n",
       "      <td>168.620776</td>\n",
       "    </tr>\n",
       "    <tr>\n",
       "      <th>4</th>\n",
       "      <td>Xdl7t</td>\n",
       "      <td>1.988431</td>\n",
       "      <td>0.155413</td>\n",
       "      <td>4.751769</td>\n",
       "      <td>154.036647</td>\n",
       "    </tr>\n",
       "    <tr>\n",
       "      <th>...</th>\n",
       "      <td>...</td>\n",
       "      <td>...</td>\n",
       "      <td>...</td>\n",
       "      <td>...</td>\n",
       "      <td>...</td>\n",
       "    </tr>\n",
       "    <tr>\n",
       "      <th>99995</th>\n",
       "      <td>DLsed</td>\n",
       "      <td>0.971957</td>\n",
       "      <td>0.370953</td>\n",
       "      <td>6.075346</td>\n",
       "      <td>110.744026</td>\n",
       "    </tr>\n",
       "    <tr>\n",
       "      <th>99996</th>\n",
       "      <td>QKivN</td>\n",
       "      <td>1.392429</td>\n",
       "      <td>-0.382606</td>\n",
       "      <td>1.273912</td>\n",
       "      <td>122.346843</td>\n",
       "    </tr>\n",
       "    <tr>\n",
       "      <th>99997</th>\n",
       "      <td>3rnvd</td>\n",
       "      <td>1.029585</td>\n",
       "      <td>0.018787</td>\n",
       "      <td>-1.348308</td>\n",
       "      <td>64.375443</td>\n",
       "    </tr>\n",
       "    <tr>\n",
       "      <th>99998</th>\n",
       "      <td>7kl59</td>\n",
       "      <td>0.998163</td>\n",
       "      <td>-0.528582</td>\n",
       "      <td>1.583869</td>\n",
       "      <td>74.040764</td>\n",
       "    </tr>\n",
       "    <tr>\n",
       "      <th>99999</th>\n",
       "      <td>1CWhH</td>\n",
       "      <td>1.764754</td>\n",
       "      <td>-0.266417</td>\n",
       "      <td>5.722849</td>\n",
       "      <td>149.633246</td>\n",
       "    </tr>\n",
       "  </tbody>\n",
       "</table>\n",
       "<p>100000 rows × 5 columns</p>\n",
       "</div>"
      ],
      "text/plain": [
       "          id        f0        f1        f2     product\n",
       "0      txEyH  0.705745 -0.497823  1.221170  105.280062\n",
       "1      2acmU  1.334711 -0.340164  4.365080   73.037750\n",
       "2      409Wp  1.022732  0.151990  1.419926   85.265647\n",
       "3      iJLyR -0.032172  0.139033  2.978566  168.620776\n",
       "4      Xdl7t  1.988431  0.155413  4.751769  154.036647\n",
       "...      ...       ...       ...       ...         ...\n",
       "99995  DLsed  0.971957  0.370953  6.075346  110.744026\n",
       "99996  QKivN  1.392429 -0.382606  1.273912  122.346843\n",
       "99997  3rnvd  1.029585  0.018787 -1.348308   64.375443\n",
       "99998  7kl59  0.998163 -0.528582  1.583869   74.040764\n",
       "99999  1CWhH  1.764754 -0.266417  5.722849  149.633246\n",
       "\n",
       "[100000 rows x 5 columns]"
      ]
     },
     "execution_count": 7,
     "metadata": {},
     "output_type": "execute_result"
    }
   ],
   "source": [
    "#transformacion de datos tipo objeto a categoricos de la columna \"id\"\n",
    "geodata_0 [\"id\"] = geodata_0 [\"id\"].astype(\"category\")\n",
    "geodata_0"
   ]
  },
  {
   "cell_type": "code",
   "execution_count": 8,
   "metadata": {},
   "outputs": [],
   "source": [
    "geodata_0.rename(columns={\"f0\":\"zona0\",\n",
    "                                      \"f1\":\"zona1\",\n",
    "                                      \"f2\":\"zona2\"}, inplace=True)"
   ]
  },
  {
   "cell_type": "code",
   "execution_count": 9,
   "metadata": {},
   "outputs": [
    {
     "data": {
      "text/html": [
       "<div>\n",
       "<style scoped>\n",
       "    .dataframe tbody tr th:only-of-type {\n",
       "        vertical-align: middle;\n",
       "    }\n",
       "\n",
       "    .dataframe tbody tr th {\n",
       "        vertical-align: top;\n",
       "    }\n",
       "\n",
       "    .dataframe thead th {\n",
       "        text-align: right;\n",
       "    }\n",
       "</style>\n",
       "<table border=\"1\" class=\"dataframe\">\n",
       "  <thead>\n",
       "    <tr style=\"text-align: right;\">\n",
       "      <th></th>\n",
       "      <th>zona0</th>\n",
       "      <th>zona1</th>\n",
       "      <th>zona2</th>\n",
       "      <th>product</th>\n",
       "    </tr>\n",
       "  </thead>\n",
       "  <tbody>\n",
       "    <tr>\n",
       "      <th>0</th>\n",
       "      <td>0.705745</td>\n",
       "      <td>-0.497823</td>\n",
       "      <td>1.221170</td>\n",
       "      <td>105.280062</td>\n",
       "    </tr>\n",
       "    <tr>\n",
       "      <th>1</th>\n",
       "      <td>1.334711</td>\n",
       "      <td>-0.340164</td>\n",
       "      <td>4.365080</td>\n",
       "      <td>73.037750</td>\n",
       "    </tr>\n",
       "    <tr>\n",
       "      <th>2</th>\n",
       "      <td>1.022732</td>\n",
       "      <td>0.151990</td>\n",
       "      <td>1.419926</td>\n",
       "      <td>85.265647</td>\n",
       "    </tr>\n",
       "    <tr>\n",
       "      <th>3</th>\n",
       "      <td>-0.032172</td>\n",
       "      <td>0.139033</td>\n",
       "      <td>2.978566</td>\n",
       "      <td>168.620776</td>\n",
       "    </tr>\n",
       "    <tr>\n",
       "      <th>4</th>\n",
       "      <td>1.988431</td>\n",
       "      <td>0.155413</td>\n",
       "      <td>4.751769</td>\n",
       "      <td>154.036647</td>\n",
       "    </tr>\n",
       "    <tr>\n",
       "      <th>...</th>\n",
       "      <td>...</td>\n",
       "      <td>...</td>\n",
       "      <td>...</td>\n",
       "      <td>...</td>\n",
       "    </tr>\n",
       "    <tr>\n",
       "      <th>99995</th>\n",
       "      <td>0.971957</td>\n",
       "      <td>0.370953</td>\n",
       "      <td>6.075346</td>\n",
       "      <td>110.744026</td>\n",
       "    </tr>\n",
       "    <tr>\n",
       "      <th>99996</th>\n",
       "      <td>1.392429</td>\n",
       "      <td>-0.382606</td>\n",
       "      <td>1.273912</td>\n",
       "      <td>122.346843</td>\n",
       "    </tr>\n",
       "    <tr>\n",
       "      <th>99997</th>\n",
       "      <td>1.029585</td>\n",
       "      <td>0.018787</td>\n",
       "      <td>-1.348308</td>\n",
       "      <td>64.375443</td>\n",
       "    </tr>\n",
       "    <tr>\n",
       "      <th>99998</th>\n",
       "      <td>0.998163</td>\n",
       "      <td>-0.528582</td>\n",
       "      <td>1.583869</td>\n",
       "      <td>74.040764</td>\n",
       "    </tr>\n",
       "    <tr>\n",
       "      <th>99999</th>\n",
       "      <td>1.764754</td>\n",
       "      <td>-0.266417</td>\n",
       "      <td>5.722849</td>\n",
       "      <td>149.633246</td>\n",
       "    </tr>\n",
       "  </tbody>\n",
       "</table>\n",
       "<p>100000 rows × 4 columns</p>\n",
       "</div>"
      ],
      "text/plain": [
       "          zona0     zona1     zona2     product\n",
       "0      0.705745 -0.497823  1.221170  105.280062\n",
       "1      1.334711 -0.340164  4.365080   73.037750\n",
       "2      1.022732  0.151990  1.419926   85.265647\n",
       "3     -0.032172  0.139033  2.978566  168.620776\n",
       "4      1.988431  0.155413  4.751769  154.036647\n",
       "...         ...       ...       ...         ...\n",
       "99995  0.971957  0.370953  6.075346  110.744026\n",
       "99996  1.392429 -0.382606  1.273912  122.346843\n",
       "99997  1.029585  0.018787 -1.348308   64.375443\n",
       "99998  0.998163 -0.528582  1.583869   74.040764\n",
       "99999  1.764754 -0.266417  5.722849  149.633246\n",
       "\n",
       "[100000 rows x 4 columns]"
      ]
     },
     "execution_count": 9,
     "metadata": {},
     "output_type": "execute_result"
    }
   ],
   "source": [
    "#Eliminamos la columna de \"id\"\n",
    "region_0 = geodata_0.drop([\"id\"], axis=1)\n",
    "region_0"
   ]
  },
  {
   "cell_type": "code",
   "execution_count": 10,
   "metadata": {},
   "outputs": [
    {
     "data": {
      "text/html": [
       "<div>\n",
       "<style scoped>\n",
       "    .dataframe tbody tr th:only-of-type {\n",
       "        vertical-align: middle;\n",
       "    }\n",
       "\n",
       "    .dataframe tbody tr th {\n",
       "        vertical-align: top;\n",
       "    }\n",
       "\n",
       "    .dataframe thead th {\n",
       "        text-align: right;\n",
       "    }\n",
       "</style>\n",
       "<table border=\"1\" class=\"dataframe\">\n",
       "  <thead>\n",
       "    <tr style=\"text-align: right;\">\n",
       "      <th></th>\n",
       "      <th>zona0</th>\n",
       "      <th>zona1</th>\n",
       "      <th>zona2</th>\n",
       "      <th>product</th>\n",
       "    </tr>\n",
       "  </thead>\n",
       "  <tbody>\n",
       "    <tr>\n",
       "      <th>8826</th>\n",
       "      <td>1.797736</td>\n",
       "      <td>0.098212</td>\n",
       "      <td>6.148260</td>\n",
       "      <td>185.364347</td>\n",
       "    </tr>\n",
       "    <tr>\n",
       "      <th>99818</th>\n",
       "      <td>0.518445</td>\n",
       "      <td>-0.412790</td>\n",
       "      <td>4.951916</td>\n",
       "      <td>185.362690</td>\n",
       "    </tr>\n",
       "    <tr>\n",
       "      <th>94175</th>\n",
       "      <td>0.351428</td>\n",
       "      <td>-0.400244</td>\n",
       "      <td>7.227618</td>\n",
       "      <td>185.355615</td>\n",
       "    </tr>\n",
       "    <tr>\n",
       "      <th>1925</th>\n",
       "      <td>0.624430</td>\n",
       "      <td>-0.469312</td>\n",
       "      <td>5.753677</td>\n",
       "      <td>185.354980</td>\n",
       "    </tr>\n",
       "    <tr>\n",
       "      <th>45291</th>\n",
       "      <td>1.758787</td>\n",
       "      <td>-0.395038</td>\n",
       "      <td>6.719085</td>\n",
       "      <td>185.352015</td>\n",
       "    </tr>\n",
       "    <tr>\n",
       "      <th>...</th>\n",
       "      <td>...</td>\n",
       "      <td>...</td>\n",
       "      <td>...</td>\n",
       "      <td>...</td>\n",
       "    </tr>\n",
       "    <tr>\n",
       "      <th>55969</th>\n",
       "      <td>-0.792553</td>\n",
       "      <td>0.439711</td>\n",
       "      <td>-0.696314</td>\n",
       "      <td>0.021781</td>\n",
       "    </tr>\n",
       "    <tr>\n",
       "      <th>5105</th>\n",
       "      <td>-0.701882</td>\n",
       "      <td>0.570246</td>\n",
       "      <td>2.288005</td>\n",
       "      <td>0.009428</td>\n",
       "    </tr>\n",
       "    <tr>\n",
       "      <th>58769</th>\n",
       "      <td>-0.702486</td>\n",
       "      <td>0.523053</td>\n",
       "      <td>-1.224802</td>\n",
       "      <td>0.006114</td>\n",
       "    </tr>\n",
       "    <tr>\n",
       "      <th>97721</th>\n",
       "      <td>0.701532</td>\n",
       "      <td>0.808797</td>\n",
       "      <td>-2.221334</td>\n",
       "      <td>0.004022</td>\n",
       "    </tr>\n",
       "    <tr>\n",
       "      <th>57263</th>\n",
       "      <td>-0.702064</td>\n",
       "      <td>0.375992</td>\n",
       "      <td>0.236572</td>\n",
       "      <td>0.000000</td>\n",
       "    </tr>\n",
       "  </tbody>\n",
       "</table>\n",
       "<p>100000 rows × 4 columns</p>\n",
       "</div>"
      ],
      "text/plain": [
       "          zona0     zona1     zona2     product\n",
       "8826   1.797736  0.098212  6.148260  185.364347\n",
       "99818  0.518445 -0.412790  4.951916  185.362690\n",
       "94175  0.351428 -0.400244  7.227618  185.355615\n",
       "1925   0.624430 -0.469312  5.753677  185.354980\n",
       "45291  1.758787 -0.395038  6.719085  185.352015\n",
       "...         ...       ...       ...         ...\n",
       "55969 -0.792553  0.439711 -0.696314    0.021781\n",
       "5105  -0.701882  0.570246  2.288005    0.009428\n",
       "58769 -0.702486  0.523053 -1.224802    0.006114\n",
       "97721  0.701532  0.808797 -2.221334    0.004022\n",
       "57263 -0.702064  0.375992  0.236572    0.000000\n",
       "\n",
       "[100000 rows x 4 columns]"
      ]
     },
     "execution_count": 10,
     "metadata": {},
     "output_type": "execute_result"
    }
   ],
   "source": [
    "#Ordenar los datos de mayor a menor por product\n",
    "region_0 = region_0.sort_values(by=[\"product\"],ascending=False)\n",
    "region_0"
   ]
  },
  {
   "cell_type": "code",
   "execution_count": 11,
   "metadata": {},
   "outputs": [
    {
     "data": {
      "text/html": [
       "<div>\n",
       "<style scoped>\n",
       "    .dataframe tbody tr th:only-of-type {\n",
       "        vertical-align: middle;\n",
       "    }\n",
       "\n",
       "    .dataframe tbody tr th {\n",
       "        vertical-align: top;\n",
       "    }\n",
       "\n",
       "    .dataframe thead th {\n",
       "        text-align: right;\n",
       "    }\n",
       "</style>\n",
       "<table border=\"1\" class=\"dataframe\">\n",
       "  <thead>\n",
       "    <tr style=\"text-align: right;\">\n",
       "      <th></th>\n",
       "      <th>zona0</th>\n",
       "      <th>zona1</th>\n",
       "      <th>zona2</th>\n",
       "      <th>product</th>\n",
       "      <th>reservas</th>\n",
       "    </tr>\n",
       "  </thead>\n",
       "  <tbody>\n",
       "    <tr>\n",
       "      <th>8826</th>\n",
       "      <td>1.797736</td>\n",
       "      <td>0.098212</td>\n",
       "      <td>6.148260</td>\n",
       "      <td>185.364347</td>\n",
       "      <td>185.364347</td>\n",
       "    </tr>\n",
       "    <tr>\n",
       "      <th>99818</th>\n",
       "      <td>0.518445</td>\n",
       "      <td>-0.412790</td>\n",
       "      <td>4.951916</td>\n",
       "      <td>185.362690</td>\n",
       "      <td>185.362690</td>\n",
       "    </tr>\n",
       "    <tr>\n",
       "      <th>94175</th>\n",
       "      <td>0.351428</td>\n",
       "      <td>-0.400244</td>\n",
       "      <td>7.227618</td>\n",
       "      <td>185.355615</td>\n",
       "      <td>185.355615</td>\n",
       "    </tr>\n",
       "    <tr>\n",
       "      <th>1925</th>\n",
       "      <td>0.624430</td>\n",
       "      <td>-0.469312</td>\n",
       "      <td>5.753677</td>\n",
       "      <td>185.354980</td>\n",
       "      <td>185.354980</td>\n",
       "    </tr>\n",
       "    <tr>\n",
       "      <th>45291</th>\n",
       "      <td>1.758787</td>\n",
       "      <td>-0.395038</td>\n",
       "      <td>6.719085</td>\n",
       "      <td>185.352015</td>\n",
       "      <td>185.352015</td>\n",
       "    </tr>\n",
       "    <tr>\n",
       "      <th>...</th>\n",
       "      <td>...</td>\n",
       "      <td>...</td>\n",
       "      <td>...</td>\n",
       "      <td>...</td>\n",
       "      <td>...</td>\n",
       "    </tr>\n",
       "    <tr>\n",
       "      <th>55969</th>\n",
       "      <td>-0.792553</td>\n",
       "      <td>0.439711</td>\n",
       "      <td>-0.696314</td>\n",
       "      <td>0.021781</td>\n",
       "      <td>0.021781</td>\n",
       "    </tr>\n",
       "    <tr>\n",
       "      <th>5105</th>\n",
       "      <td>-0.701882</td>\n",
       "      <td>0.570246</td>\n",
       "      <td>2.288005</td>\n",
       "      <td>0.009428</td>\n",
       "      <td>0.009428</td>\n",
       "    </tr>\n",
       "    <tr>\n",
       "      <th>58769</th>\n",
       "      <td>-0.702486</td>\n",
       "      <td>0.523053</td>\n",
       "      <td>-1.224802</td>\n",
       "      <td>0.006114</td>\n",
       "      <td>0.006114</td>\n",
       "    </tr>\n",
       "    <tr>\n",
       "      <th>97721</th>\n",
       "      <td>0.701532</td>\n",
       "      <td>0.808797</td>\n",
       "      <td>-2.221334</td>\n",
       "      <td>0.004022</td>\n",
       "      <td>0.004022</td>\n",
       "    </tr>\n",
       "    <tr>\n",
       "      <th>57263</th>\n",
       "      <td>-0.702064</td>\n",
       "      <td>0.375992</td>\n",
       "      <td>0.236572</td>\n",
       "      <td>0.000000</td>\n",
       "      <td>0.000000</td>\n",
       "    </tr>\n",
       "  </tbody>\n",
       "</table>\n",
       "<p>100000 rows × 5 columns</p>\n",
       "</div>"
      ],
      "text/plain": [
       "          zona0     zona1     zona2     product    reservas\n",
       "8826   1.797736  0.098212  6.148260  185.364347  185.364347\n",
       "99818  0.518445 -0.412790  4.951916  185.362690  185.362690\n",
       "94175  0.351428 -0.400244  7.227618  185.355615  185.355615\n",
       "1925   0.624430 -0.469312  5.753677  185.354980  185.354980\n",
       "45291  1.758787 -0.395038  6.719085  185.352015  185.352015\n",
       "...         ...       ...       ...         ...         ...\n",
       "55969 -0.792553  0.439711 -0.696314    0.021781    0.021781\n",
       "5105  -0.701882  0.570246  2.288005    0.009428    0.009428\n",
       "58769 -0.702486  0.523053 -1.224802    0.006114    0.006114\n",
       "97721  0.701532  0.808797 -2.221334    0.004022    0.004022\n",
       "57263 -0.702064  0.375992  0.236572    0.000000    0.000000\n",
       "\n",
       "[100000 rows x 5 columns]"
      ]
     },
     "execution_count": 11,
     "metadata": {},
     "output_type": "execute_result"
    }
   ],
   "source": [
    "#redondear valores #no rendondear\n",
    "region_0[[\"reservas\"]] = geodata_0[\"product\"]\n",
    "region_0"
   ]
  },
  {
   "cell_type": "code",
   "execution_count": 12,
   "metadata": {},
   "outputs": [
    {
     "data": {
      "text/html": [
       "<div>\n",
       "<style scoped>\n",
       "    .dataframe tbody tr th:only-of-type {\n",
       "        vertical-align: middle;\n",
       "    }\n",
       "\n",
       "    .dataframe tbody tr th {\n",
       "        vertical-align: top;\n",
       "    }\n",
       "\n",
       "    .dataframe thead th {\n",
       "        text-align: right;\n",
       "    }\n",
       "</style>\n",
       "<table border=\"1\" class=\"dataframe\">\n",
       "  <thead>\n",
       "    <tr style=\"text-align: right;\">\n",
       "      <th></th>\n",
       "      <th>zona0</th>\n",
       "      <th>zona1</th>\n",
       "      <th>zona2</th>\n",
       "      <th>reservas</th>\n",
       "    </tr>\n",
       "  </thead>\n",
       "  <tbody>\n",
       "    <tr>\n",
       "      <th>8826</th>\n",
       "      <td>1.797736</td>\n",
       "      <td>0.098212</td>\n",
       "      <td>6.148260</td>\n",
       "      <td>185.364347</td>\n",
       "    </tr>\n",
       "    <tr>\n",
       "      <th>99818</th>\n",
       "      <td>0.518445</td>\n",
       "      <td>-0.412790</td>\n",
       "      <td>4.951916</td>\n",
       "      <td>185.362690</td>\n",
       "    </tr>\n",
       "    <tr>\n",
       "      <th>94175</th>\n",
       "      <td>0.351428</td>\n",
       "      <td>-0.400244</td>\n",
       "      <td>7.227618</td>\n",
       "      <td>185.355615</td>\n",
       "    </tr>\n",
       "    <tr>\n",
       "      <th>1925</th>\n",
       "      <td>0.624430</td>\n",
       "      <td>-0.469312</td>\n",
       "      <td>5.753677</td>\n",
       "      <td>185.354980</td>\n",
       "    </tr>\n",
       "    <tr>\n",
       "      <th>45291</th>\n",
       "      <td>1.758787</td>\n",
       "      <td>-0.395038</td>\n",
       "      <td>6.719085</td>\n",
       "      <td>185.352015</td>\n",
       "    </tr>\n",
       "    <tr>\n",
       "      <th>...</th>\n",
       "      <td>...</td>\n",
       "      <td>...</td>\n",
       "      <td>...</td>\n",
       "      <td>...</td>\n",
       "    </tr>\n",
       "    <tr>\n",
       "      <th>55969</th>\n",
       "      <td>-0.792553</td>\n",
       "      <td>0.439711</td>\n",
       "      <td>-0.696314</td>\n",
       "      <td>0.021781</td>\n",
       "    </tr>\n",
       "    <tr>\n",
       "      <th>5105</th>\n",
       "      <td>-0.701882</td>\n",
       "      <td>0.570246</td>\n",
       "      <td>2.288005</td>\n",
       "      <td>0.009428</td>\n",
       "    </tr>\n",
       "    <tr>\n",
       "      <th>58769</th>\n",
       "      <td>-0.702486</td>\n",
       "      <td>0.523053</td>\n",
       "      <td>-1.224802</td>\n",
       "      <td>0.006114</td>\n",
       "    </tr>\n",
       "    <tr>\n",
       "      <th>97721</th>\n",
       "      <td>0.701532</td>\n",
       "      <td>0.808797</td>\n",
       "      <td>-2.221334</td>\n",
       "      <td>0.004022</td>\n",
       "    </tr>\n",
       "    <tr>\n",
       "      <th>57263</th>\n",
       "      <td>-0.702064</td>\n",
       "      <td>0.375992</td>\n",
       "      <td>0.236572</td>\n",
       "      <td>0.000000</td>\n",
       "    </tr>\n",
       "  </tbody>\n",
       "</table>\n",
       "<p>100000 rows × 4 columns</p>\n",
       "</div>"
      ],
      "text/plain": [
       "          zona0     zona1     zona2    reservas\n",
       "8826   1.797736  0.098212  6.148260  185.364347\n",
       "99818  0.518445 -0.412790  4.951916  185.362690\n",
       "94175  0.351428 -0.400244  7.227618  185.355615\n",
       "1925   0.624430 -0.469312  5.753677  185.354980\n",
       "45291  1.758787 -0.395038  6.719085  185.352015\n",
       "...         ...       ...       ...         ...\n",
       "55969 -0.792553  0.439711 -0.696314    0.021781\n",
       "5105  -0.701882  0.570246  2.288005    0.009428\n",
       "58769 -0.702486  0.523053 -1.224802    0.006114\n",
       "97721  0.701532  0.808797 -2.221334    0.004022\n",
       "57263 -0.702064  0.375992  0.236572    0.000000\n",
       "\n",
       "[100000 rows x 4 columns]"
      ]
     },
     "execution_count": 12,
     "metadata": {},
     "output_type": "execute_result"
    }
   ],
   "source": [
    "#Eliminamos la columna de \"product\"\n",
    "region_0 = region_0.drop([\"product\"], axis=1)\n",
    "region_0"
   ]
  },
  {
   "cell_type": "code",
   "execution_count": 13,
   "metadata": {},
   "outputs": [
    {
     "data": {
      "text/plain": [
       "116.482251    1\n",
       "134.053493    1\n",
       "84.511011     1\n",
       "85.413965     1\n",
       "148.731682    1\n",
       "             ..\n",
       "113.199516    1\n",
       "132.822976    1\n",
       "33.163621     1\n",
       "78.664946     1\n",
       "154.424007    1\n",
       "Name: reservas, Length: 100000, dtype: int64"
      ]
     },
     "execution_count": 13,
     "metadata": {},
     "output_type": "execute_result"
    }
   ],
   "source": [
    "region_0 [\"reservas\"].value_counts().sort_values()"
   ]
  },
  {
   "cell_type": "code",
   "execution_count": 14,
   "metadata": {},
   "outputs": [
    {
     "data": {
      "text/plain": [
       "array([1.85364347e+02, 1.85362690e+02, 1.85355615e+02, ...,\n",
       "       6.11363631e-03, 4.02152316e-03, 0.00000000e+00])"
      ]
     },
     "execution_count": 14,
     "metadata": {},
     "output_type": "execute_result"
    }
   ],
   "source": [
    "region_0[\"reservas\"].unique()"
   ]
  },
  {
   "cell_type": "markdown",
   "metadata": {},
   "source": [
    "<div class=\"alert alert-block alert-success\">\n",
    "<b>Comentario del revisor</b> <a class=\"tocSkip\"></a><br />\n",
    "Correcto!<br/>\n",
    "\n",
    "Buena manera de leer los datos y de hacer una revisión inicial\n",
    "</div>\n"
   ]
  },
  {
   "cell_type": "markdown",
   "metadata": {},
   "source": [
    "Ya con la limpieza de datos y teniendo solo los pozos con reservas de mas de 111.1 unidades para poder producir 500,000 dolares por unidad."
   ]
  },
  {
   "cell_type": "markdown",
   "metadata": {},
   "source": [
    "### 2.-Entrena y prueba el modelo para cada región "
   ]
  },
  {
   "cell_type": "markdown",
   "metadata": {},
   "source": [
    "#### 1.- Divide, entrena y prueba el modelo para cada región en geo_data_0.csv:"
   ]
  },
  {
   "cell_type": "markdown",
   "metadata": {},
   "source": [
    "<div class=\"alert alert-block alert-warning\">\n",
    "<b>Comentario del revisor</b> <a class=\"tocSkip\"></a><br />\n",
    "Cuidado!<br/>\n",
    "\n",
    "Las librerias deberian leerse una sola vez, además de que deberian estar al inicio del proyecto\n",
    "</div>\n"
   ]
  },
  {
   "cell_type": "code",
   "execution_count": 15,
   "metadata": {},
   "outputs": [
    {
     "name": "stdout",
     "output_type": "stream",
     "text": [
      "La media de antes: zona0        0.500419\n",
      "zona1        0.250143\n",
      "zona2        2.502647\n",
      "reservas    92.500000\n",
      "dtype: float64\n"
     ]
    }
   ],
   "source": [
    "#Media de las zonas \n",
    "print(\"La media de antes:\", region_0.mean())"
   ]
  },
  {
   "cell_type": "code",
   "execution_count": 16,
   "metadata": {},
   "outputs": [],
   "source": [
    "#Diviri en variables dependientes e independientes (x y y)\n",
    "X = region_0['zona0'].values.reshape(-1,1)\n",
    "y = region_0['reservas'].values"
   ]
  },
  {
   "cell_type": "markdown",
   "metadata": {},
   "source": [
    "<div class=\"alert alert-block alert-warning\">\n",
    "<b>Comentario del revisor</b> <a class=\"tocSkip\"></a><br />\n",
    "Cuidado!<br/>\n",
    "\n",
    "Hizo falta importar estas librerias\n",
    "</div>\n"
   ]
  },
  {
   "cell_type": "code",
   "execution_count": 17,
   "metadata": {},
   "outputs": [],
   "source": [
    "#Dividir el conjunto de datos en entrenamiento y test\n",
    "X_train, X_test, y_train, y_test = train_test_split(X, y, test_size=0.75, random_state=12345)"
   ]
  },
  {
   "cell_type": "code",
   "execution_count": 18,
   "metadata": {},
   "outputs": [
    {
     "name": "stdout",
     "output_type": "stream",
     "text": [
      "(25000, 1)\n",
      "(25000,)\n"
     ]
    }
   ],
   "source": [
    "#\n",
    "print(X_train.shape)\n",
    "print(y_train.shape)"
   ]
  },
  {
   "cell_type": "code",
   "execution_count": 19,
   "metadata": {},
   "outputs": [
    {
     "data": {
      "text/plain": [
       "LinearRegression()"
      ]
     },
     "execution_count": 19,
     "metadata": {},
     "output_type": "execute_result"
    }
   ],
   "source": [
    "#Crear el modelo de regresion lineal\n",
    "model = LinearRegression()\n",
    "model.fit(X_train, y_train)"
   ]
  },
  {
   "cell_type": "code",
   "execution_count": 20,
   "metadata": {},
   "outputs": [
    {
     "data": {
      "text/plain": [
       "array([ 86.56454719,  93.75706409, 101.59468072, ...,  94.25292432,\n",
       "       101.92830562,  96.64027002])"
      ]
     },
     "execution_count": 20,
     "metadata": {},
     "output_type": "execute_result"
    }
   ],
   "source": [
    "#Valores de la predicion del modelo\n",
    "predicted_train = model.predict(X_test)\n",
    "predicted_train"
   ]
  },
  {
   "cell_type": "code",
   "execution_count": 21,
   "metadata": {},
   "outputs": [
    {
     "name": "stdout",
     "output_type": "stream",
     "text": [
      "predicciones: [ 86.56454719  93.75706409 101.59468072  86.74166333  93.63147378], Reales: [ 60.57305525  49.58280635 171.3384567   86.83321544  30.66198457]\n"
     ]
    }
   ],
   "source": [
    "#Calificacion del modelo y calculando las predicciones\n",
    "predicted_train\n",
    "print(\"predicciones: {}, Reales: {}\".format(predicted_train[:5], y_test[:5]))"
   ]
  },
  {
   "cell_type": "code",
   "execution_count": 22,
   "metadata": {},
   "outputs": [
    {
     "data": {
      "text/plain": [
       "92.92032839157315"
      ]
     },
     "execution_count": 22,
     "metadata": {},
     "output_type": "execute_result"
    }
   ],
   "source": [
    "#Volumen medio \n",
    "volumen_medio = predicted_train.mean()\n",
    "volumen_medio "
   ]
  },
  {
   "cell_type": "code",
   "execution_count": 23,
   "metadata": {},
   "outputs": [
    {
     "name": "stdout",
     "output_type": "stream",
     "text": [
      "RMSE: 43.80390956163805\n"
     ]
    }
   ],
   "source": [
    "#Mejorando el modelo con RMSE\n",
    "RMSE = mean_squared_error(y_test, predicted_train, squared=False)\n",
    "print(\"RMSE:\", RMSE)"
   ]
  },
  {
   "cell_type": "markdown",
   "metadata": {},
   "source": [
    "Este modelo que se creo es con una sola variable en este caso es con los datos de la zona0, por lo que trataremos de crear este modelo nuevamente con regresion lineal multiple para comparar resultados. "
   ]
  },
  {
   "cell_type": "markdown",
   "metadata": {},
   "source": [
    "<div class=\"alert alert-block alert-success\">\n",
    "<b>Comentario delxrevisor</b> <a class=\"tocSkip\"></a><br />\n",
    "Bien hecho!<br/>\n",
    "\n",
    "Buena manera de construir una función para entrenar y validar el modelo\n",
    "</div>\n"
   ]
  },
  {
   "cell_type": "code",
   "execution_count": 24,
   "metadata": {},
   "outputs": [
    {
     "data": {
      "text/html": [
       "<div>\n",
       "<style scoped>\n",
       "    .dataframe tbody tr th:only-of-type {\n",
       "        vertical-align: middle;\n",
       "    }\n",
       "\n",
       "    .dataframe tbody tr th {\n",
       "        vertical-align: top;\n",
       "    }\n",
       "\n",
       "    .dataframe thead th {\n",
       "        text-align: right;\n",
       "    }\n",
       "</style>\n",
       "<table border=\"1\" class=\"dataframe\">\n",
       "  <thead>\n",
       "    <tr style=\"text-align: right;\">\n",
       "      <th></th>\n",
       "      <th>zona0</th>\n",
       "      <th>zona1</th>\n",
       "      <th>zona2</th>\n",
       "      <th>reservas</th>\n",
       "    </tr>\n",
       "  </thead>\n",
       "  <tbody>\n",
       "    <tr>\n",
       "      <th>count</th>\n",
       "      <td>100000.000000</td>\n",
       "      <td>100000.000000</td>\n",
       "      <td>100000.000000</td>\n",
       "      <td>100000.000000</td>\n",
       "    </tr>\n",
       "    <tr>\n",
       "      <th>mean</th>\n",
       "      <td>0.500419</td>\n",
       "      <td>0.250143</td>\n",
       "      <td>2.502647</td>\n",
       "      <td>92.500000</td>\n",
       "    </tr>\n",
       "    <tr>\n",
       "      <th>std</th>\n",
       "      <td>0.871832</td>\n",
       "      <td>0.504433</td>\n",
       "      <td>3.248248</td>\n",
       "      <td>44.288691</td>\n",
       "    </tr>\n",
       "    <tr>\n",
       "      <th>min</th>\n",
       "      <td>-1.408605</td>\n",
       "      <td>-0.848218</td>\n",
       "      <td>-12.088328</td>\n",
       "      <td>0.000000</td>\n",
       "    </tr>\n",
       "    <tr>\n",
       "      <th>25%</th>\n",
       "      <td>-0.072580</td>\n",
       "      <td>-0.200881</td>\n",
       "      <td>0.287748</td>\n",
       "      <td>56.497507</td>\n",
       "    </tr>\n",
       "    <tr>\n",
       "      <th>50%</th>\n",
       "      <td>0.502360</td>\n",
       "      <td>0.250252</td>\n",
       "      <td>2.515969</td>\n",
       "      <td>91.849972</td>\n",
       "    </tr>\n",
       "    <tr>\n",
       "      <th>75%</th>\n",
       "      <td>1.073581</td>\n",
       "      <td>0.700646</td>\n",
       "      <td>4.715088</td>\n",
       "      <td>128.564089</td>\n",
       "    </tr>\n",
       "    <tr>\n",
       "      <th>max</th>\n",
       "      <td>2.362331</td>\n",
       "      <td>1.343769</td>\n",
       "      <td>16.003790</td>\n",
       "      <td>185.364347</td>\n",
       "    </tr>\n",
       "  </tbody>\n",
       "</table>\n",
       "</div>"
      ],
      "text/plain": [
       "               zona0          zona1          zona2       reservas\n",
       "count  100000.000000  100000.000000  100000.000000  100000.000000\n",
       "mean        0.500419       0.250143       2.502647      92.500000\n",
       "std         0.871832       0.504433       3.248248      44.288691\n",
       "min        -1.408605      -0.848218     -12.088328       0.000000\n",
       "25%        -0.072580      -0.200881       0.287748      56.497507\n",
       "50%         0.502360       0.250252       2.515969      91.849972\n",
       "75%         1.073581       0.700646       4.715088     128.564089\n",
       "max         2.362331       1.343769      16.003790     185.364347"
      ]
     },
     "execution_count": 24,
     "metadata": {},
     "output_type": "execute_result"
    }
   ],
   "source": [
    "region_0.describe()"
   ]
  },
  {
   "cell_type": "markdown",
   "metadata": {},
   "source": [
    "##### \"Modelo de regresion lineal multiple con geo_data_0.csv\""
   ]
  },
  {
   "cell_type": "code",
   "execution_count": 25,
   "metadata": {},
   "outputs": [
    {
     "name": "stdout",
     "output_type": "stream",
     "text": [
      "Predicciones: [ 86.41936697  80.23726194  72.49803905 119.41697289  87.69436287], Reales: 58512     55.630153\n",
      "91545     49.961046\n",
      "88834    135.248818\n",
      "22447     54.355426\n",
      "18405     27.449020\n",
      "Name: reservas, dtype: float64\n",
      "RMSE = 37.75209074037667\n",
      "volumen_medio = 92.61789358449005\n",
      "R2 = 0.27073878075167257\n"
     ]
    },
    {
     "data": {
      "image/png": "[encoded data removed]",
      "text/plain": [
       "<Figure size 640x480 with 1 Axes>"
      ]
     },
     "metadata": {},
     "output_type": "display_data"
    }
   ],
   "source": [
    "#Entrenar modelo de regresion multiple y conjunato de validacion.\n",
    "X = region_0.drop(columns=['reservas'], axis=1,).values  # 'product' es la variable objetivo\n",
    "y = region_0['reservas']\n",
    "    \n",
    "X_train, X_valid, y_train, y_valid = train_test_split(X, y, test_size=0.25, random_state=42)\n",
    "    \n",
    "modelo = LinearRegression()\n",
    "modelo.fit(X_train, y_train)\n",
    "    \n",
    "predicciones = modelo.predict(X_valid)\n",
    "rmse = mean_squared_error(y_valid, predicciones, squared=False)\n",
    "volumen_medio = predicciones.mean()\n",
    "\n",
    "\n",
    "print(\"Predicciones: {}, Reales: {}\".format(predicciones[:5], y_valid[:5]))\n",
    "print(\"RMSE =\",rmse)\n",
    "print(\"volumen_medio =\",volumen_medio)\n",
    "print('R2 =', r2_score(y_valid,predicciones))\n",
    "\n",
    "#graficar valores de region0 \n",
    "plt.plot(X_test, y_test, \"ro\")\n",
    "plt.plot(X_test, predicted_train)\n",
    "plt.show()"
   ]
  },
  {
   "cell_type": "code",
   "execution_count": 26,
   "metadata": {},
   "outputs": [
    {
     "data": {
      "text/plain": [
       "<AxesSubplot:xlabel='reservas'>"
      ]
     },
     "execution_count": 26,
     "metadata": {},
     "output_type": "execute_result"
    },
    {
     "data": {
      "image/png": "[encoded data removed]",
      "text/plain": [
       "<Figure size 640x480 with 1 Axes>"
      ]
     },
     "metadata": {},
     "output_type": "display_data"
    }
   ],
   "source": [
    "#Graficar con seaborn\n",
    "import seaborn as sns\n",
    "X = region_0.drop(columns=['reservas'], axis=1,).values  # 'product' es la variable objetivo\n",
    "y = region_0['reservas']\n",
    "    \n",
    "X_train, X_valid, y_train, y_valid = train_test_split(X, y, test_size=0.25, random_state=42)\n",
    "    \n",
    "modelo = LinearRegression()\n",
    "modelo.fit(X_train, y_train)\n",
    "    \n",
    "predicciones = modelo.predict(X_valid)\n",
    "rmse = mean_squared_error(y_valid, predicciones, squared=False)\n",
    "volumen_medio = predicciones.mean()\n",
    "\n",
    "sns.regplot(x = y_valid, y = predicciones)"
   ]
  },
  {
   "cell_type": "markdown",
   "metadata": {},
   "source": [
    "**Como conclucion, podemos observar que se tienen muchos datos y que este modelo quedo bastante defectuoso ya que el R2 quedo muy debajo de 1, asi el RMSE quedo muy alto y no cercano a 0 para un modelo mas preciso. \n",
    "Por lo que continuaremos trabajando con los otros dos df.**"
   ]
  },
  {
   "cell_type": "markdown",
   "metadata": {},
   "source": [
    "#### 2.- Divide, entrena y prueba el modelo para cada región en geo_data_1.csv:"
   ]
  },
  {
   "cell_type": "code",
   "execution_count": 27,
   "metadata": {},
   "outputs": [],
   "source": [
    "#Renombrar columnas\n",
    "geodata_1.rename(columns={\"f0\":\"zona0\",\n",
    "                                      \"f1\":\"zona1\",\n",
    "                                      \"f2\":\"zona2\"}, inplace=True)"
   ]
  },
  {
   "cell_type": "code",
   "execution_count": 28,
   "metadata": {},
   "outputs": [
    {
     "data": {
      "text/html": [
       "<div>\n",
       "<style scoped>\n",
       "    .dataframe tbody tr th:only-of-type {\n",
       "        vertical-align: middle;\n",
       "    }\n",
       "\n",
       "    .dataframe tbody tr th {\n",
       "        vertical-align: top;\n",
       "    }\n",
       "\n",
       "    .dataframe thead th {\n",
       "        text-align: right;\n",
       "    }\n",
       "</style>\n",
       "<table border=\"1\" class=\"dataframe\">\n",
       "  <thead>\n",
       "    <tr style=\"text-align: right;\">\n",
       "      <th></th>\n",
       "      <th>zona0</th>\n",
       "      <th>zona1</th>\n",
       "      <th>zona2</th>\n",
       "      <th>product</th>\n",
       "    </tr>\n",
       "  </thead>\n",
       "  <tbody>\n",
       "    <tr>\n",
       "      <th>0</th>\n",
       "      <td>-15.001348</td>\n",
       "      <td>-8.276000</td>\n",
       "      <td>-0.005876</td>\n",
       "      <td>3.179103</td>\n",
       "    </tr>\n",
       "    <tr>\n",
       "      <th>1</th>\n",
       "      <td>14.272088</td>\n",
       "      <td>-3.475083</td>\n",
       "      <td>0.999183</td>\n",
       "      <td>26.953261</td>\n",
       "    </tr>\n",
       "    <tr>\n",
       "      <th>2</th>\n",
       "      <td>6.263187</td>\n",
       "      <td>-5.948386</td>\n",
       "      <td>5.001160</td>\n",
       "      <td>134.766305</td>\n",
       "    </tr>\n",
       "    <tr>\n",
       "      <th>3</th>\n",
       "      <td>-13.081196</td>\n",
       "      <td>-11.506057</td>\n",
       "      <td>4.999415</td>\n",
       "      <td>137.945408</td>\n",
       "    </tr>\n",
       "    <tr>\n",
       "      <th>4</th>\n",
       "      <td>12.702195</td>\n",
       "      <td>-8.147433</td>\n",
       "      <td>5.004363</td>\n",
       "      <td>134.766305</td>\n",
       "    </tr>\n",
       "    <tr>\n",
       "      <th>...</th>\n",
       "      <td>...</td>\n",
       "      <td>...</td>\n",
       "      <td>...</td>\n",
       "      <td>...</td>\n",
       "    </tr>\n",
       "    <tr>\n",
       "      <th>99995</th>\n",
       "      <td>9.535637</td>\n",
       "      <td>-6.878139</td>\n",
       "      <td>1.998296</td>\n",
       "      <td>53.906522</td>\n",
       "    </tr>\n",
       "    <tr>\n",
       "      <th>99996</th>\n",
       "      <td>-10.160631</td>\n",
       "      <td>-12.558096</td>\n",
       "      <td>5.005581</td>\n",
       "      <td>137.945408</td>\n",
       "    </tr>\n",
       "    <tr>\n",
       "      <th>99997</th>\n",
       "      <td>-7.378891</td>\n",
       "      <td>-3.084104</td>\n",
       "      <td>4.998651</td>\n",
       "      <td>137.945408</td>\n",
       "    </tr>\n",
       "    <tr>\n",
       "      <th>99998</th>\n",
       "      <td>0.665714</td>\n",
       "      <td>-6.152593</td>\n",
       "      <td>1.000146</td>\n",
       "      <td>30.132364</td>\n",
       "    </tr>\n",
       "    <tr>\n",
       "      <th>99999</th>\n",
       "      <td>-3.426139</td>\n",
       "      <td>-7.794274</td>\n",
       "      <td>-0.003299</td>\n",
       "      <td>3.179103</td>\n",
       "    </tr>\n",
       "  </tbody>\n",
       "</table>\n",
       "<p>100000 rows × 4 columns</p>\n",
       "</div>"
      ],
      "text/plain": [
       "           zona0      zona1     zona2     product\n",
       "0     -15.001348  -8.276000 -0.005876    3.179103\n",
       "1      14.272088  -3.475083  0.999183   26.953261\n",
       "2       6.263187  -5.948386  5.001160  134.766305\n",
       "3     -13.081196 -11.506057  4.999415  137.945408\n",
       "4      12.702195  -8.147433  5.004363  134.766305\n",
       "...          ...        ...       ...         ...\n",
       "99995   9.535637  -6.878139  1.998296   53.906522\n",
       "99996 -10.160631 -12.558096  5.005581  137.945408\n",
       "99997  -7.378891  -3.084104  4.998651  137.945408\n",
       "99998   0.665714  -6.152593  1.000146   30.132364\n",
       "99999  -3.426139  -7.794274 -0.003299    3.179103\n",
       "\n",
       "[100000 rows x 4 columns]"
      ]
     },
     "execution_count": 28,
     "metadata": {},
     "output_type": "execute_result"
    }
   ],
   "source": [
    "#Eliminamos la columna de \"id\"\n",
    "region_1 = geodata_1.drop([\"id\"], axis=1)\n",
    "region_1"
   ]
  },
  {
   "cell_type": "code",
   "execution_count": 29,
   "metadata": {},
   "outputs": [
    {
     "data": {
      "text/html": [
       "<div>\n",
       "<style scoped>\n",
       "    .dataframe tbody tr th:only-of-type {\n",
       "        vertical-align: middle;\n",
       "    }\n",
       "\n",
       "    .dataframe tbody tr th {\n",
       "        vertical-align: top;\n",
       "    }\n",
       "\n",
       "    .dataframe thead th {\n",
       "        text-align: right;\n",
       "    }\n",
       "</style>\n",
       "<table border=\"1\" class=\"dataframe\">\n",
       "  <thead>\n",
       "    <tr style=\"text-align: right;\">\n",
       "      <th></th>\n",
       "      <th>zona0</th>\n",
       "      <th>zona1</th>\n",
       "      <th>zona2</th>\n",
       "      <th>Reservas_1</th>\n",
       "    </tr>\n",
       "  </thead>\n",
       "  <tbody>\n",
       "    <tr>\n",
       "      <th>0</th>\n",
       "      <td>-15.001348</td>\n",
       "      <td>-8.276000</td>\n",
       "      <td>-0.005876</td>\n",
       "      <td>3.179103</td>\n",
       "    </tr>\n",
       "    <tr>\n",
       "      <th>1</th>\n",
       "      <td>14.272088</td>\n",
       "      <td>-3.475083</td>\n",
       "      <td>0.999183</td>\n",
       "      <td>26.953261</td>\n",
       "    </tr>\n",
       "    <tr>\n",
       "      <th>2</th>\n",
       "      <td>6.263187</td>\n",
       "      <td>-5.948386</td>\n",
       "      <td>5.001160</td>\n",
       "      <td>134.766305</td>\n",
       "    </tr>\n",
       "    <tr>\n",
       "      <th>3</th>\n",
       "      <td>-13.081196</td>\n",
       "      <td>-11.506057</td>\n",
       "      <td>4.999415</td>\n",
       "      <td>137.945408</td>\n",
       "    </tr>\n",
       "    <tr>\n",
       "      <th>4</th>\n",
       "      <td>12.702195</td>\n",
       "      <td>-8.147433</td>\n",
       "      <td>5.004363</td>\n",
       "      <td>134.766305</td>\n",
       "    </tr>\n",
       "    <tr>\n",
       "      <th>...</th>\n",
       "      <td>...</td>\n",
       "      <td>...</td>\n",
       "      <td>...</td>\n",
       "      <td>...</td>\n",
       "    </tr>\n",
       "    <tr>\n",
       "      <th>99995</th>\n",
       "      <td>9.535637</td>\n",
       "      <td>-6.878139</td>\n",
       "      <td>1.998296</td>\n",
       "      <td>53.906522</td>\n",
       "    </tr>\n",
       "    <tr>\n",
       "      <th>99996</th>\n",
       "      <td>-10.160631</td>\n",
       "      <td>-12.558096</td>\n",
       "      <td>5.005581</td>\n",
       "      <td>137.945408</td>\n",
       "    </tr>\n",
       "    <tr>\n",
       "      <th>99997</th>\n",
       "      <td>-7.378891</td>\n",
       "      <td>-3.084104</td>\n",
       "      <td>4.998651</td>\n",
       "      <td>137.945408</td>\n",
       "    </tr>\n",
       "    <tr>\n",
       "      <th>99998</th>\n",
       "      <td>0.665714</td>\n",
       "      <td>-6.152593</td>\n",
       "      <td>1.000146</td>\n",
       "      <td>30.132364</td>\n",
       "    </tr>\n",
       "    <tr>\n",
       "      <th>99999</th>\n",
       "      <td>-3.426139</td>\n",
       "      <td>-7.794274</td>\n",
       "      <td>-0.003299</td>\n",
       "      <td>3.179103</td>\n",
       "    </tr>\n",
       "  </tbody>\n",
       "</table>\n",
       "<p>100000 rows × 4 columns</p>\n",
       "</div>"
      ],
      "text/plain": [
       "           zona0      zona1     zona2  Reservas_1\n",
       "0     -15.001348  -8.276000 -0.005876    3.179103\n",
       "1      14.272088  -3.475083  0.999183   26.953261\n",
       "2       6.263187  -5.948386  5.001160  134.766305\n",
       "3     -13.081196 -11.506057  4.999415  137.945408\n",
       "4      12.702195  -8.147433  5.004363  134.766305\n",
       "...          ...        ...       ...         ...\n",
       "99995   9.535637  -6.878139  1.998296   53.906522\n",
       "99996 -10.160631 -12.558096  5.005581  137.945408\n",
       "99997  -7.378891  -3.084104  4.998651  137.945408\n",
       "99998   0.665714  -6.152593  1.000146   30.132364\n",
       "99999  -3.426139  -7.794274 -0.003299    3.179103\n",
       "\n",
       "[100000 rows x 4 columns]"
      ]
     },
     "execution_count": 29,
     "metadata": {},
     "output_type": "execute_result"
    }
   ],
   "source": [
    "region_1.rename(columns={\"product\":\"Reservas_1\"}, inplace=True)\n",
    "region_1"
   ]
  },
  {
   "cell_type": "code",
   "execution_count": 30,
   "metadata": {},
   "outputs": [
    {
     "data": {
      "text/html": [
       "<div>\n",
       "<style scoped>\n",
       "    .dataframe tbody tr th:only-of-type {\n",
       "        vertical-align: middle;\n",
       "    }\n",
       "\n",
       "    .dataframe tbody tr th {\n",
       "        vertical-align: top;\n",
       "    }\n",
       "\n",
       "    .dataframe thead th {\n",
       "        text-align: right;\n",
       "    }\n",
       "</style>\n",
       "<table border=\"1\" class=\"dataframe\">\n",
       "  <thead>\n",
       "    <tr style=\"text-align: right;\">\n",
       "      <th></th>\n",
       "      <th>zona0</th>\n",
       "      <th>zona1</th>\n",
       "      <th>zona2</th>\n",
       "      <th>Reservas_1</th>\n",
       "    </tr>\n",
       "  </thead>\n",
       "  <tbody>\n",
       "    <tr>\n",
       "      <th>count</th>\n",
       "      <td>100000.000000</td>\n",
       "      <td>100000.000000</td>\n",
       "      <td>100000.000000</td>\n",
       "      <td>100000.000000</td>\n",
       "    </tr>\n",
       "    <tr>\n",
       "      <th>mean</th>\n",
       "      <td>1.141296</td>\n",
       "      <td>-4.796579</td>\n",
       "      <td>2.494541</td>\n",
       "      <td>68.825000</td>\n",
       "    </tr>\n",
       "    <tr>\n",
       "      <th>std</th>\n",
       "      <td>8.965932</td>\n",
       "      <td>5.119872</td>\n",
       "      <td>1.703572</td>\n",
       "      <td>45.944423</td>\n",
       "    </tr>\n",
       "    <tr>\n",
       "      <th>min</th>\n",
       "      <td>-31.609576</td>\n",
       "      <td>-26.358598</td>\n",
       "      <td>-0.018144</td>\n",
       "      <td>0.000000</td>\n",
       "    </tr>\n",
       "    <tr>\n",
       "      <th>25%</th>\n",
       "      <td>-6.298551</td>\n",
       "      <td>-8.267985</td>\n",
       "      <td>1.000021</td>\n",
       "      <td>26.953261</td>\n",
       "    </tr>\n",
       "    <tr>\n",
       "      <th>50%</th>\n",
       "      <td>1.153055</td>\n",
       "      <td>-4.813172</td>\n",
       "      <td>2.011479</td>\n",
       "      <td>57.085625</td>\n",
       "    </tr>\n",
       "    <tr>\n",
       "      <th>75%</th>\n",
       "      <td>8.621015</td>\n",
       "      <td>-1.332816</td>\n",
       "      <td>3.999904</td>\n",
       "      <td>107.813044</td>\n",
       "    </tr>\n",
       "    <tr>\n",
       "      <th>max</th>\n",
       "      <td>29.421755</td>\n",
       "      <td>18.734063</td>\n",
       "      <td>5.019721</td>\n",
       "      <td>137.945408</td>\n",
       "    </tr>\n",
       "  </tbody>\n",
       "</table>\n",
       "</div>"
      ],
      "text/plain": [
       "               zona0          zona1          zona2     Reservas_1\n",
       "count  100000.000000  100000.000000  100000.000000  100000.000000\n",
       "mean        1.141296      -4.796579       2.494541      68.825000\n",
       "std         8.965932       5.119872       1.703572      45.944423\n",
       "min       -31.609576     -26.358598      -0.018144       0.000000\n",
       "25%        -6.298551      -8.267985       1.000021      26.953261\n",
       "50%         1.153055      -4.813172       2.011479      57.085625\n",
       "75%         8.621015      -1.332816       3.999904     107.813044\n",
       "max        29.421755      18.734063       5.019721     137.945408"
      ]
     },
     "execution_count": 30,
     "metadata": {},
     "output_type": "execute_result"
    }
   ],
   "source": [
    "region_1.describe()"
   ]
  },
  {
   "cell_type": "markdown",
   "metadata": {},
   "source": [
    "##### \"Modelo de regresion lineal multiple con geo_data_1.csv\""
   ]
  },
  {
   "cell_type": "code",
   "execution_count": 31,
   "metadata": {},
   "outputs": [
    {
     "name": "stdout",
     "output_type": "stream",
     "text": [
      "Predicciones_1: [ 8.44738063e-01  5.29216119e+01  1.35110385e+02  1.09494863e+02\n",
      " -4.72915824e-02], Reales: 75721      0.000000\n",
      "80184     53.906522\n",
      "19864    134.766305\n",
      "76699    107.813044\n",
      "92991      0.000000\n",
      "Name: Reservas_1, dtype: float64\n",
      "RMSE_1 = 0.8902801001028905\n",
      "volumen_medio_1 = 68.71287803913717\n",
      "R2_1 = 0.9996245232002449\n"
     ]
    },
    {
     "data": {
      "image/png": "[encoded data removed]",
      "text/plain": [
       "<Figure size 640x480 with 1 Axes>"
      ]
     },
     "metadata": {},
     "output_type": "display_data"
    }
   ],
   "source": [
    "#Entrenar modelo de regresion multiple y conjunato de validacion.\n",
    "X = region_1.drop(columns=['Reservas_1'], axis=1,).values  # 'product' es la variable objetivo\n",
    "y = region_1['Reservas_1']\n",
    "    \n",
    "X_train, X_valid, y_train, y_valid = train_test_split(X, y, test_size=0.25, random_state=42)\n",
    "    \n",
    "modelo = LinearRegression()\n",
    "modelo.fit(X_train, y_train)\n",
    "    \n",
    "predicciones = modelo.predict(X_valid)\n",
    "rmse = mean_squared_error(y_valid, predicciones, squared=False)\n",
    "volumen_medio = predicciones.mean()\n",
    "\n",
    "\n",
    "print(\"Predicciones_1: {}, Reales: {}\".format(predicciones[:5], y_valid[:5]))\n",
    "print(\"RMSE_1 =\",rmse)\n",
    "print(\"volumen_medio_1 =\",volumen_medio)\n",
    "print('R2_1 =', r2_score(y_valid,predicciones))\n",
    "\n",
    "#graficar valores de region0 \n",
    "plt.plot(X_test, y_test, \"ro\")\n",
    "plt.plot(X_test, predicted_train)\n",
    "plt.show()"
   ]
  },
  {
   "cell_type": "markdown",
   "metadata": {},
   "source": [
    "**Como conclucion, podemos observar que se tienen un mejor modelo y mas preciso tanto como el RMSE ya con un 0.89 casi cercano a 0 y un R2 con 0.999 casi 1 por lo que es casi excacto**"
   ]
  },
  {
   "cell_type": "markdown",
   "metadata": {},
   "source": [
    "#### 3.- Divide, entrena y prueba el modelo para cada región en geo_data_2.csv:"
   ]
  },
  {
   "cell_type": "code",
   "execution_count": 32,
   "metadata": {},
   "outputs": [],
   "source": [
    "#Renombrar columnas\n",
    "geodata_2.rename(columns={\"f0\":\"zona0\",\n",
    "                          \"f1\":\"zona1\",\n",
    "                          \"f2\":\"zona2\",\n",
    "                          \"product\":\"Reservas_2\"},\n",
    "                 inplace=True)"
   ]
  },
  {
   "cell_type": "code",
   "execution_count": 33,
   "metadata": {},
   "outputs": [
    {
     "data": {
      "text/html": [
       "<div>\n",
       "<style scoped>\n",
       "    .dataframe tbody tr th:only-of-type {\n",
       "        vertical-align: middle;\n",
       "    }\n",
       "\n",
       "    .dataframe tbody tr th {\n",
       "        vertical-align: top;\n",
       "    }\n",
       "\n",
       "    .dataframe thead th {\n",
       "        text-align: right;\n",
       "    }\n",
       "</style>\n",
       "<table border=\"1\" class=\"dataframe\">\n",
       "  <thead>\n",
       "    <tr style=\"text-align: right;\">\n",
       "      <th></th>\n",
       "      <th>zona0</th>\n",
       "      <th>zona1</th>\n",
       "      <th>zona2</th>\n",
       "      <th>Reservas_2</th>\n",
       "    </tr>\n",
       "  </thead>\n",
       "  <tbody>\n",
       "    <tr>\n",
       "      <th>0</th>\n",
       "      <td>-1.146987</td>\n",
       "      <td>0.963328</td>\n",
       "      <td>-0.828965</td>\n",
       "      <td>27.758673</td>\n",
       "    </tr>\n",
       "    <tr>\n",
       "      <th>1</th>\n",
       "      <td>0.262778</td>\n",
       "      <td>0.269839</td>\n",
       "      <td>-2.530187</td>\n",
       "      <td>56.069697</td>\n",
       "    </tr>\n",
       "    <tr>\n",
       "      <th>2</th>\n",
       "      <td>0.194587</td>\n",
       "      <td>0.289035</td>\n",
       "      <td>-5.586433</td>\n",
       "      <td>62.871910</td>\n",
       "    </tr>\n",
       "    <tr>\n",
       "      <th>3</th>\n",
       "      <td>2.236060</td>\n",
       "      <td>-0.553760</td>\n",
       "      <td>0.930038</td>\n",
       "      <td>114.572842</td>\n",
       "    </tr>\n",
       "    <tr>\n",
       "      <th>4</th>\n",
       "      <td>-0.515993</td>\n",
       "      <td>1.716266</td>\n",
       "      <td>5.899011</td>\n",
       "      <td>149.600746</td>\n",
       "    </tr>\n",
       "    <tr>\n",
       "      <th>...</th>\n",
       "      <td>...</td>\n",
       "      <td>...</td>\n",
       "      <td>...</td>\n",
       "      <td>...</td>\n",
       "    </tr>\n",
       "    <tr>\n",
       "      <th>99995</th>\n",
       "      <td>-1.777037</td>\n",
       "      <td>1.125220</td>\n",
       "      <td>6.263374</td>\n",
       "      <td>172.327046</td>\n",
       "    </tr>\n",
       "    <tr>\n",
       "      <th>99996</th>\n",
       "      <td>-1.261523</td>\n",
       "      <td>-0.894828</td>\n",
       "      <td>2.524545</td>\n",
       "      <td>138.748846</td>\n",
       "    </tr>\n",
       "    <tr>\n",
       "      <th>99997</th>\n",
       "      <td>-1.199934</td>\n",
       "      <td>-2.957637</td>\n",
       "      <td>5.219411</td>\n",
       "      <td>157.080080</td>\n",
       "    </tr>\n",
       "    <tr>\n",
       "      <th>99998</th>\n",
       "      <td>-2.419896</td>\n",
       "      <td>2.417221</td>\n",
       "      <td>-5.548444</td>\n",
       "      <td>51.795253</td>\n",
       "    </tr>\n",
       "    <tr>\n",
       "      <th>99999</th>\n",
       "      <td>-2.551421</td>\n",
       "      <td>-2.025625</td>\n",
       "      <td>6.090891</td>\n",
       "      <td>102.775767</td>\n",
       "    </tr>\n",
       "  </tbody>\n",
       "</table>\n",
       "<p>100000 rows × 4 columns</p>\n",
       "</div>"
      ],
      "text/plain": [
       "          zona0     zona1     zona2  Reservas_2\n",
       "0     -1.146987  0.963328 -0.828965   27.758673\n",
       "1      0.262778  0.269839 -2.530187   56.069697\n",
       "2      0.194587  0.289035 -5.586433   62.871910\n",
       "3      2.236060 -0.553760  0.930038  114.572842\n",
       "4     -0.515993  1.716266  5.899011  149.600746\n",
       "...         ...       ...       ...         ...\n",
       "99995 -1.777037  1.125220  6.263374  172.327046\n",
       "99996 -1.261523 -0.894828  2.524545  138.748846\n",
       "99997 -1.199934 -2.957637  5.219411  157.080080\n",
       "99998 -2.419896  2.417221 -5.548444   51.795253\n",
       "99999 -2.551421 -2.025625  6.090891  102.775767\n",
       "\n",
       "[100000 rows x 4 columns]"
      ]
     },
     "execution_count": 33,
     "metadata": {},
     "output_type": "execute_result"
    }
   ],
   "source": [
    "#Eliminamos la columna de \"id\"\n",
    "region_2 = geodata_2.drop([\"id\"], axis=1)\n",
    "region_2"
   ]
  },
  {
   "cell_type": "code",
   "execution_count": 34,
   "metadata": {},
   "outputs": [
    {
     "data": {
      "text/html": [
       "<div>\n",
       "<style scoped>\n",
       "    .dataframe tbody tr th:only-of-type {\n",
       "        vertical-align: middle;\n",
       "    }\n",
       "\n",
       "    .dataframe tbody tr th {\n",
       "        vertical-align: top;\n",
       "    }\n",
       "\n",
       "    .dataframe thead th {\n",
       "        text-align: right;\n",
       "    }\n",
       "</style>\n",
       "<table border=\"1\" class=\"dataframe\">\n",
       "  <thead>\n",
       "    <tr style=\"text-align: right;\">\n",
       "      <th></th>\n",
       "      <th>zona0</th>\n",
       "      <th>zona1</th>\n",
       "      <th>zona2</th>\n",
       "      <th>Reservas_2</th>\n",
       "    </tr>\n",
       "  </thead>\n",
       "  <tbody>\n",
       "    <tr>\n",
       "      <th>count</th>\n",
       "      <td>100000.000000</td>\n",
       "      <td>100000.000000</td>\n",
       "      <td>100000.000000</td>\n",
       "      <td>100000.000000</td>\n",
       "    </tr>\n",
       "    <tr>\n",
       "      <th>mean</th>\n",
       "      <td>0.002023</td>\n",
       "      <td>-0.002081</td>\n",
       "      <td>2.495128</td>\n",
       "      <td>95.000000</td>\n",
       "    </tr>\n",
       "    <tr>\n",
       "      <th>std</th>\n",
       "      <td>1.732045</td>\n",
       "      <td>1.730417</td>\n",
       "      <td>3.473445</td>\n",
       "      <td>44.749921</td>\n",
       "    </tr>\n",
       "    <tr>\n",
       "      <th>min</th>\n",
       "      <td>-8.760004</td>\n",
       "      <td>-7.084020</td>\n",
       "      <td>-11.970335</td>\n",
       "      <td>0.000000</td>\n",
       "    </tr>\n",
       "    <tr>\n",
       "      <th>25%</th>\n",
       "      <td>-1.162288</td>\n",
       "      <td>-1.174820</td>\n",
       "      <td>0.130359</td>\n",
       "      <td>59.450441</td>\n",
       "    </tr>\n",
       "    <tr>\n",
       "      <th>50%</th>\n",
       "      <td>0.009424</td>\n",
       "      <td>-0.009482</td>\n",
       "      <td>2.484236</td>\n",
       "      <td>94.925613</td>\n",
       "    </tr>\n",
       "    <tr>\n",
       "      <th>75%</th>\n",
       "      <td>1.158535</td>\n",
       "      <td>1.163678</td>\n",
       "      <td>4.858794</td>\n",
       "      <td>130.595027</td>\n",
       "    </tr>\n",
       "    <tr>\n",
       "      <th>max</th>\n",
       "      <td>7.238262</td>\n",
       "      <td>7.844801</td>\n",
       "      <td>16.739402</td>\n",
       "      <td>190.029838</td>\n",
       "    </tr>\n",
       "  </tbody>\n",
       "</table>\n",
       "</div>"
      ],
      "text/plain": [
       "               zona0          zona1          zona2     Reservas_2\n",
       "count  100000.000000  100000.000000  100000.000000  100000.000000\n",
       "mean        0.002023      -0.002081       2.495128      95.000000\n",
       "std         1.732045       1.730417       3.473445      44.749921\n",
       "min        -8.760004      -7.084020     -11.970335       0.000000\n",
       "25%        -1.162288      -1.174820       0.130359      59.450441\n",
       "50%         0.009424      -0.009482       2.484236      94.925613\n",
       "75%         1.158535       1.163678       4.858794     130.595027\n",
       "max         7.238262       7.844801      16.739402     190.029838"
      ]
     },
     "execution_count": 34,
     "metadata": {},
     "output_type": "execute_result"
    }
   ],
   "source": [
    "region_2.describe()"
   ]
  },
  {
   "cell_type": "markdown",
   "metadata": {},
   "source": [
    "##### \"Modelo de regresion lineal multiple con geo_data_2.csv\""
   ]
  },
  {
   "cell_type": "code",
   "execution_count": 35,
   "metadata": {},
   "outputs": [
    {
     "name": "stdout",
     "output_type": "stream",
     "text": [
      "Predicciones_2: [ 8.44738063e-01  5.29216119e+01  1.35110385e+02  1.09494863e+02\n",
      " -4.72915824e-02], Reales: 75721    117.441301\n",
      "80184     47.841249\n",
      "19864     45.883483\n",
      "76699    139.014608\n",
      "92991     84.004276\n",
      "Name: Reservas_2, dtype: float64\n",
      "RMSE_2 = 69.44009022977963\n",
      "volumen_medio_2 = 68.71287803913717\n",
      "R2_2 = 0.19634705977280464\n"
     ]
    },
    {
     "data": {
      "image/png": "[encoded data removed]",
      "text/plain": [
       "<Figure size 640x480 with 1 Axes>"
      ]
     },
     "metadata": {},
     "output_type": "display_data"
    }
   ],
   "source": [
    "#Entrenar modelo de regresion multiple y conjunato de validacion.\n",
    "X = region_2.drop(columns=['Reservas_2'], axis=1,).values  # 'product' es la variable objetivo\n",
    "y = region_2['Reservas_2']\n",
    "    \n",
    "X_train, X_valid, y_train, y_valid = train_test_split(X, y, test_size=0.25, random_state=42)\n",
    "    \n",
    "modelo = LinearRegression()\n",
    "modelo.fit(X_train, y_train)\n",
    "    \n",
    "predicciones_2 = modelo.predict(X_valid)\n",
    "rmse_2 = mean_squared_error(y_valid, predicciones, squared=False)\n",
    "volumen_medio_2 = predicciones.mean()\n",
    "\n",
    "\n",
    "print(\"Predicciones_2: {}, Reales: {}\".format(predicciones[:5], y_valid[:5]))\n",
    "print(\"RMSE_2 =\",rmse_2)\n",
    "print(\"volumen_medio_2 =\",volumen_medio_2)\n",
    "print('R2_2 =', r2_score(y_valid,predicciones_2))\n",
    "\n",
    "#graficar valores de region0 \n",
    "plt.plot(X_test, y_test, \"ro\")\n",
    "plt.plot(X_test, predicted_train)\n",
    "plt.show()"
   ]
  },
  {
   "cell_type": "markdown",
   "metadata": {},
   "source": [
    "**Como conclucion, podemos observar que se tienen muchos datos y que este modelo quedo bastante defectuoso ya que el R2 quedo muy debajo de 1, asi el RMSE quedo muy alto y no cercano a 0 para un modelo mas preciso. \n",
    "Por lo que continuaremos trabajando con los otros dos df.**"
   ]
  },
  {
   "cell_type": "markdown",
   "metadata": {},
   "source": [
    "#### **Como conlcuion final despues de entrenar los 3 diferentes modelos en las 3 diferentes zonas se concluye que el mejor modelo para continuar es con el DF region_1.**"
   ]
  },
  {
   "cell_type": "markdown",
   "metadata": {},
   "source": [
    "<div class=\"alert alert-block alert-success\">\n",
    "<b>Comentario delxrevisor</b> <a class=\"tocSkip\"></a><br />\n",
    "Bien hecho!<br/>\n",
    "\n",
    "Las regiones fueron evaluadas correctamente, podemos ver que hay variaciones entre ellas, además de que el error es elevado, por lo que no son calculos muy fiables\n",
    "</div>\n"
   ]
  },
  {
   "cell_type": "markdown",
   "metadata": {},
   "source": [
    "### 3.-cálculo de ganancias"
   ]
  },
  {
   "cell_type": "code",
   "execution_count": 36,
   "metadata": {},
   "outputs": [],
   "source": [
    "#Almacenar los datos \n",
    "Inversion = 100,000,000 \n",
    "n_pozos = 200 \n",
    "B_operativo = 500,000"
   ]
  },
  {
   "cell_type": "code",
   "execution_count": 37,
   "metadata": {},
   "outputs": [],
   "source": [
    "def calcular_ganancia(predicciones, reales, costo_pozos=100_000_000, n_pozos=200):\n",
    "    top_200 = np.argsort(predicciones)[-n_pozos:]\n",
    "    ganancias = reales.iloc[top_200].sum() * 1000  # cada unidad vale $1000\n",
    "    inversion = costo_pozo\n",
    "    return ganancias - inversion"
   ]
  },
  {
   "cell_type": "markdown",
   "metadata": {},
   "source": [
    "Como conclucion, tenemos que escoger los mejores 200 pozos de las muestras y multiplicarlo por 1000 para obtener las ganacias, "
   ]
  },
  {
   "cell_type": "markdown",
   "metadata": {},
   "source": [
    "### 4.-Escribe una función para calcular la ganancia de un conjunto de pozos de petróleo seleccionados y modela las predicciones:"
   ]
  },
  {
   "cell_type": "code",
   "execution_count": 38,
   "metadata": {},
   "outputs": [
    {
     "name": "stdout",
     "output_type": "stream",
     "text": [
      "          zona0     zona1     zona2    reservas\n",
      "8826   1.797736  0.098212  6.148260  185.364347\n",
      "99818  0.518445 -0.412790  4.951916  185.362690\n",
      "94175  0.351428 -0.400244  7.227618  185.355615\n",
      "1925   0.624430 -0.469312  5.753677  185.354980\n",
      "45291  1.758787 -0.395038  6.719085  185.352015\n",
      "...         ...       ...       ...         ...\n",
      "34856  2.038708  0.271003  3.791803  184.366474\n",
      "54135  1.108500 -0.583939  1.503254  184.362338\n",
      "63598  1.330398 -0.523232  6.365799  184.360762\n",
      "4941   1.674001  0.016279  3.869249  184.358756\n",
      "79494  1.313813 -0.459792  9.423778  184.356455\n",
      "\n",
      "[200 rows x 4 columns]\n"
     ]
    }
   ],
   "source": [
    "region_0_200 = region_0.sort_values(by=[\"reservas\"],ascending=False)\n",
    "print(region_0_200.head(200))"
   ]
  },
  {
   "cell_type": "code",
   "execution_count": 39,
   "metadata": {},
   "outputs": [
    {
     "name": "stdout",
     "output_type": "stream",
     "text": [
      "Ingresos promedio: 11416.185020667504\n",
      "Cuantil del 1 %: 8815.471774826816\n"
     ]
    }
   ],
   "source": [
    "# Abre los archivos\n",
    "# toma el índice “0” para convertir los datos a pd-Series\n",
    "#Entrenar modelo de regresion multiple y conjunato de validacion.\n",
    "X = region_1.drop(columns=['Reservas_1'], axis=1,).values  # 'product' es la variable objetivo\n",
    "y = region_1['Reservas_1']\n",
    "    \n",
    "X_train, X_valid, y_train, y_valid = train_test_split(X, y, test_size=0.25, random_state=42)\n",
    "    \n",
    "modelo = LinearRegression()\n",
    "modelo.fit(X_train, y_train)\n",
    "    \n",
    "predicciones = modelo.predict(X_valid)\n",
    "\n",
    "target = region_1['Reservas_1']\n",
    "probabilities = region_1['Reservas_1']\n",
    "\n",
    "\n",
    "def revenue(target, probabilities, count):\n",
    "    probs_sorted = probabilities.sort_values(ascending=False)#|\n",
    "    selected = target[probs_sorted.index][:count]\n",
    "    return 10 * selected.sum()\n",
    "\n",
    "state = np.random.RandomState(200)\n",
    "    \n",
    "values = []\n",
    "for i in range(1000):\n",
    "    target_subsample = target.sample(n=25, replace=True, random_state=state)\n",
    "    probs_subsample = probabilities[target_subsample.index]\n",
    "    \n",
    "    values.append(revenue(target_subsample, probs_subsample, 10))\n",
    "\n",
    "values = pd.Series(values)\n",
    "lower = values.quantile(0.01) # < escribe tu código aquí >\n",
    "\n",
    "mean = values.mean()\n",
    "print(\"Ingresos promedio:\", mean)\n",
    "print(\"Cuantil del 1 %:\", lower)"
   ]
  },
  {
   "cell_type": "markdown",
   "metadata": {},
   "source": [
    "**Ya se obtuvieron los ingresos promedio por lo que necesitamos ya solo0 calcular los riesgos y las ganancias por region.** "
   ]
  },
  {
   "cell_type": "markdown",
   "metadata": {},
   "source": [
    "<div class=\"alert alert-block alert-success\">\n",
    "<b>Comentario delxrevisor</b> <a class=\"tocSkip\"></a><br />\n",
    "Corregido!<br/>\n",
    "\n",
    "\n",
    "</div>\n"
   ]
  },
  {
   "cell_type": "markdown",
   "metadata": {},
   "source": [
    "<div class=\"alert alert-block alert-danger\">\n",
    "<b>Comentario delxrevisor</b> <a class=\"tocSkip\"></a><br />\n",
    "Cuidado!<br/>\n",
    "\n",
    "Existe un error en el código, se esta tratando de accesar a la columna `'0'` la cual no existe dentro del conjunto de datos, debes utilizar la palabra correcta para accesar a los datos que requieres\n",
    "</div>\n"
   ]
  },
  {
   "cell_type": "markdown",
   "metadata": {},
   "source": [
    "### 5.-Calcula riesgos y ganancias para cada región"
   ]
  },
  {
   "cell_type": "code",
   "execution_count": 40,
   "metadata": {},
   "outputs": [
    {
     "name": "stdout",
     "output_type": "stream",
     "text": [
      "Ingresos promedio: 13626.579343344736\n",
      "Cuantil del 1 %: 11367.786206550563\n"
     ]
    }
   ],
   "source": [
    "X = region_0.drop(columns=['reservas'], axis=1,).values  \n",
    "y = region_0['reservas']\n",
    "\n",
    "X_train, X_valid, y_train, y_valid = train_test_split(X, y, test_size=0.25, random_state=42)\n",
    "    \n",
    "modelo = LinearRegression()\n",
    "modelo.fit(X_train, y_train)\n",
    "    \n",
    "predicciones = modelo.predict(X_valid)\n",
    "\n",
    "target = region_0['reservas']\n",
    "probabilities = region_0['reservas']\n",
    "\n",
    "def revenue(target, probabilities, count):\n",
    "    probs_sorted = probabilities.sort_values(ascending=False)\n",
    "    selected = target[probs_sorted.index][:count]\n",
    "    return 10 * selected.sum()\n",
    "\n",
    "state = np.random.RandomState(200)\n",
    "    \n",
    "values = []\n",
    "for i in range(1000):\n",
    "    target_subsample = target.sample(n=25, replace=True, random_state=state)\n",
    "    probs_subsample = probabilities[target_subsample.index]\n",
    "    \n",
    "    values.append(revenue(target_subsample, probs_subsample, 10))#< escribe tu código aquí >)\n",
    "\n",
    "values = pd.Series(values)\n",
    "lower = values.quantile(0.01) # < escribe tu código aquí >\n",
    "\n",
    "mean = values.mean()\n",
    "print(\"Ingresos promedio:\", mean)\n",
    "print(\"Cuantil del 1 %:\", lower)"
   ]
  },
  {
   "cell_type": "code",
   "execution_count": 41,
   "metadata": {},
   "outputs": [
    {
     "name": "stdout",
     "output_type": "stream",
     "text": [
      "Ingresos promedio: 13893.48034575932\n",
      "Cuantil del 1 %: 11377.51694952403\n"
     ]
    }
   ],
   "source": [
    "X = region_2.drop(columns=['Reservas_2'], axis=1,).values  \n",
    "y = region_2['Reservas_2']\n",
    "\n",
    "X_train, X_valid, y_train, y_valid = train_test_split(X, y, test_size=0.25, random_state=42)\n",
    "    \n",
    "modelo = LinearRegression()\n",
    "modelo.fit(X_train, y_train)\n",
    "    \n",
    "predicciones = modelo.predict(X_valid)\n",
    "\n",
    "target = region_2['Reservas_2']\n",
    "probabilities = region_2['Reservas_2']\n",
    "\n",
    "def revenue(target, probabilities, count):\n",
    "    probs_sorted = probabilities.sort_values(ascending=False)\n",
    "    selected = target[probs_sorted.index][:count]\n",
    "    return 10 * selected.sum()\n",
    "\n",
    "state = np.random.RandomState(200)\n",
    "    \n",
    "values = []\n",
    "for i in range(1000):\n",
    "    target_subsample = target.sample(n=25, replace=True, random_state=state)\n",
    "    probs_subsample = probabilities[target_subsample.index]\n",
    "    \n",
    "    values.append(revenue(target_subsample, probs_subsample, 10))#< escribe tu código aquí >)\n",
    "\n",
    "values = pd.Series(values)\n",
    "lower = values.quantile(0.01) # < escribe tu código aquí >\n",
    "\n",
    "mean = values.mean()\n",
    "print(\"Ingresos promedio:\", mean)\n",
    "print(\"Cuantil del 1 %:\", lower)\n",
    "\n",
    "def bootstrapping_ganancia(reales, predicciones, n_iter=1000, n_pozos=200, costo_pozo=100_000_000):\n",
    "    ganancias = []\n",
    "    top_200 = np.argsort(predicciones)[-n_pozos:]\n",
    "    reales_top = reales.iloc[top_200].reset_index(drop=True)\n",
    "    \n",
    "    for _ in range(n_iter):\n",
    "        sample = reales_top.sample(n=n_pozos, replace=True)\n",
    "        ganancia = sample.sum() * 1000 - costo_pozo\n",
    "        ganancias.append(ganancia)\n",
    "    \n",
    "    ganancias = pd.Series(ganancias)\n",
    "    promedio = ganancias.mean()\n",
    "    intervalo = ganancias.quantile([0.025, 0.975])\n",
    "    riesgo_perdida = (ganancias < 0).mean()\n",
    "    \n",
    "    return promedio, intervalo, riesgo_perdida"
   ]
  },
  {
   "cell_type": "markdown",
   "metadata": {},
   "source": [
    "##### **Podemos observar que la region numero 2 tiene el mayor ingreso promedio, de las 3 analisadas**"
   ]
  },
  {
   "cell_type": "markdown",
   "metadata": {},
   "source": [
    "## Comentario general\n",
    "<div class=\"alert alert-block alert-success\">\n",
    "<b>Comentario del revisor</b> <a class=\"tocSkip\"></a><br />\n",
    "Has realizado un buen trabajo, me doy cuenta de que has aplicado los conocimientos que has adquirido durante el curso y los procedimientos realizados son correctos, esta es una gran herramienta que nos ayuda en muchos casos y es bastante útil en proyectos reales.<br/>\n",
    "    \n",
    "\n",
    "Este tipo de analisis nos ayuda a confirmar suposiciones o apoyar decisiones de negocio las cuales muchas veces entre más puntos de vista se analisen mejores resultados se obtendrán al final.\n",
    "Continúa con el buen trabajo y mucho éxito en el siguiente Sprint!\n",
    "</div>\n"
   ]
  },
  {
   "cell_type": "markdown",
   "metadata": {},
   "source": [
    "<div class=\"alert alert-block alert-success\">\n",
    "<b>Aspectos favorables del proyecto</b> <a class=\"tocSkip\"></a><br />\n",
    "    \n",
    "- Documento bastante ordenado\n",
    "\n",
    "</div>\n",
    "\n",
    "<div class=\"alert alert-block alert-warning\">\n",
    "<b>Aspectos que pueden mejorar del proyecto</b> <a class=\"tocSkip\"></a><br />\n",
    "    \n",
    "- Se pueden incluir observaciones intermedias\n",
    "- Elaborar un poco más las conclusiones finales\n",
    "</div>\n",
    "\n"
   ]
  }
 ],
 "metadata": {
  "ExecuteTimeLog": [
   {
    "duration": 164,
    "start_time": "2025-04-23T03:40:05.153Z"
   },
   {
    "duration": 11,
    "start_time": "2025-04-23T03:40:10.287Z"
   },
   {
    "duration": 14,
    "start_time": "2025-04-23T03:45:30.723Z"
   },
   {
    "duration": 8901,
    "start_time": "2025-04-23T03:53:28.275Z"
   },
   {
    "duration": 1546,
    "start_time": "2025-04-23T03:54:03.458Z"
   },
   {
    "duration": 2684,
    "start_time": "2025-04-23T03:54:06.604Z"
   },
   {
    "duration": 158,
    "start_time": "2025-04-23T03:54:09.290Z"
   },
   {
    "duration": 13,
    "start_time": "2025-04-23T03:54:10.964Z"
   },
   {
    "duration": 401,
    "start_time": "2025-04-23T04:01:01.588Z"
   },
   {
    "duration": 8,
    "start_time": "2025-04-23T04:01:31.210Z"
   },
   {
    "duration": 7,
    "start_time": "2025-04-23T04:02:02.065Z"
   },
   {
    "duration": 8,
    "start_time": "2025-04-23T04:02:06.479Z"
   },
   {
    "duration": 12,
    "start_time": "2025-04-23T04:10:52.936Z"
   },
   {
    "duration": 11,
    "start_time": "2025-04-23T04:11:01.627Z"
   },
   {
    "duration": 14,
    "start_time": "2025-04-23T04:11:16.636Z"
   },
   {
    "duration": 13,
    "start_time": "2025-04-23T04:11:24.493Z"
   },
   {
    "duration": 158,
    "start_time": "2025-04-23T21:46:41.848Z"
   },
   {
    "duration": 8806,
    "start_time": "2025-04-23T21:46:45.883Z"
   },
   {
    "duration": 1570,
    "start_time": "2025-04-23T21:46:57.791Z"
   },
   {
    "duration": 4,
    "start_time": "2025-04-23T21:46:59.364Z"
   },
   {
    "duration": 238,
    "start_time": "2025-04-23T21:46:59.370Z"
   },
   {
    "duration": 15,
    "start_time": "2025-04-23T21:46:59.610Z"
   },
   {
    "duration": 22,
    "start_time": "2025-04-23T21:46:59.628Z"
   },
   {
    "duration": 12,
    "start_time": "2025-04-23T21:46:59.651Z"
   },
   {
    "duration": 215,
    "start_time": "2025-04-23T23:07:21.532Z"
   },
   {
    "duration": 394,
    "start_time": "2025-04-23T23:07:57.060Z"
   },
   {
    "duration": 488,
    "start_time": "2025-04-23T23:40:50.990Z"
   },
   {
    "duration": 407,
    "start_time": "2025-04-23T23:41:18.079Z"
   },
   {
    "duration": 398,
    "start_time": "2025-04-23T23:41:28.228Z"
   },
   {
    "duration": 166,
    "start_time": "2025-04-24T00:09:38.504Z"
   },
   {
    "duration": 1706,
    "start_time": "2025-04-24T00:09:49.576Z"
   },
   {
    "duration": 1273,
    "start_time": "2025-04-24T00:09:51.285Z"
   },
   {
    "duration": 1140,
    "start_time": "2025-04-24T00:09:52.560Z"
   },
   {
    "duration": 15,
    "start_time": "2025-04-24T00:09:53.702Z"
   },
   {
    "duration": 13,
    "start_time": "2025-04-24T00:09:53.719Z"
   },
   {
    "duration": 17,
    "start_time": "2025-04-24T00:09:53.743Z"
   },
   {
    "duration": 249,
    "start_time": "2025-04-24T00:09:53.762Z"
   },
   {
    "duration": 400,
    "start_time": "2025-04-24T00:09:54.013Z"
   },
   {
    "duration": 159,
    "start_time": "2025-04-24T00:10:29.110Z"
   },
   {
    "duration": 1545,
    "start_time": "2025-04-24T00:10:36.689Z"
   },
   {
    "duration": 1007,
    "start_time": "2025-04-24T00:10:38.238Z"
   },
   {
    "duration": 344,
    "start_time": "2025-04-24T00:10:39.247Z"
   },
   {
    "duration": 15,
    "start_time": "2025-04-24T00:10:39.592Z"
   },
   {
    "duration": 12,
    "start_time": "2025-04-24T00:10:39.609Z"
   },
   {
    "duration": 25,
    "start_time": "2025-04-24T00:10:39.623Z"
   },
   {
    "duration": 236,
    "start_time": "2025-04-24T00:10:39.650Z"
   },
   {
    "duration": 423,
    "start_time": "2025-04-24T00:10:39.889Z"
   },
   {
    "duration": 1561,
    "start_time": "2025-04-24T00:10:59.522Z"
   },
   {
    "duration": 1039,
    "start_time": "2025-04-24T00:11:01.085Z"
   },
   {
    "duration": 286,
    "start_time": "2025-04-24T00:11:02.125Z"
   },
   {
    "duration": 14,
    "start_time": "2025-04-24T00:11:02.413Z"
   },
   {
    "duration": 21,
    "start_time": "2025-04-24T00:11:02.430Z"
   },
   {
    "duration": 12,
    "start_time": "2025-04-24T00:11:02.453Z"
   },
   {
    "duration": 242,
    "start_time": "2025-04-24T00:11:02.467Z"
   },
   {
    "duration": 401,
    "start_time": "2025-04-24T00:11:02.711Z"
   },
   {
    "duration": 162,
    "start_time": "2025-04-24T00:11:12.711Z"
   },
   {
    "duration": 1022,
    "start_time": "2025-04-24T00:11:30.297Z"
   },
   {
    "duration": 99,
    "start_time": "2025-04-24T00:11:39.203Z"
   },
   {
    "duration": 479,
    "start_time": "2025-04-24T00:11:48.665Z"
   },
   {
    "duration": 15,
    "start_time": "2025-04-24T00:11:50.531Z"
   },
   {
    "duration": 12,
    "start_time": "2025-04-24T00:11:52.814Z"
   },
   {
    "duration": 13,
    "start_time": "2025-04-24T00:11:55.759Z"
   },
   {
    "duration": 14,
    "start_time": "2025-04-24T00:11:59.537Z"
   },
   {
    "duration": 23,
    "start_time": "2025-04-24T00:13:45.114Z"
   },
   {
    "duration": 67,
    "start_time": "2025-04-24T00:17:19.871Z"
   },
   {
    "duration": 26,
    "start_time": "2025-04-24T00:27:25.178Z"
   },
   {
    "duration": 24,
    "start_time": "2025-04-24T00:27:53.733Z"
   },
   {
    "duration": 2190,
    "start_time": "2025-04-24T00:34:39.492Z"
   },
   {
    "duration": 15,
    "start_time": "2025-04-24T00:42:50.878Z"
   },
   {
    "duration": 398,
    "start_time": "2025-04-24T00:42:56.734Z"
   },
   {
    "duration": 13,
    "start_time": "2025-04-24T00:54:27.577Z"
   },
   {
    "duration": 667,
    "start_time": "2025-04-24T00:54:38.540Z"
   },
   {
    "duration": 58,
    "start_time": "2025-04-24T01:06:49.717Z"
   },
   {
    "duration": 680,
    "start_time": "2025-04-24T01:06:53.762Z"
   },
   {
    "duration": 23,
    "start_time": "2025-04-24T01:06:55.482Z"
   },
   {
    "duration": 3,
    "start_time": "2025-04-24T01:07:08.120Z"
   },
   {
    "duration": 171,
    "start_time": "2025-04-24T01:07:12.852Z"
   },
   {
    "duration": 20,
    "start_time": "2025-04-24T01:07:52.699Z"
   },
   {
    "duration": 1578,
    "start_time": "2025-04-24T01:08:03.300Z"
   },
   {
    "duration": 384,
    "start_time": "2025-04-24T01:12:21.310Z"
   },
   {
    "duration": 689,
    "start_time": "2025-04-24T01:12:24.484Z"
   },
   {
    "duration": 720,
    "start_time": "2025-04-24T01:12:28.084Z"
   },
   {
    "duration": 30,
    "start_time": "2025-04-24T01:12:29.847Z"
   },
   {
    "duration": 28,
    "start_time": "2025-04-24T01:12:55.201Z"
   },
   {
    "duration": 18,
    "start_time": "2025-04-24T01:14:52.971Z"
   },
   {
    "duration": 7,
    "start_time": "2025-04-24T01:47:00.023Z"
   },
   {
    "duration": 17,
    "start_time": "2025-04-24T01:56:58.784Z"
   },
   {
    "duration": 8,
    "start_time": "2025-04-24T02:06:27.956Z"
   },
   {
    "duration": 116,
    "start_time": "2025-04-24T02:06:39.957Z"
   },
   {
    "duration": 268,
    "start_time": "2025-04-24T02:07:41.396Z"
   },
   {
    "duration": 43,
    "start_time": "2025-04-24T02:07:50.027Z"
   },
   {
    "duration": 203,
    "start_time": "2025-04-24T02:08:26.243Z"
   },
   {
    "duration": 42,
    "start_time": "2025-04-24T02:08:29.490Z"
   },
   {
    "duration": 72,
    "start_time": "2025-04-24T02:16:52.857Z"
   },
   {
    "duration": 83,
    "start_time": "2025-04-24T04:05:40.981Z"
   },
   {
    "duration": 74,
    "start_time": "2025-04-24T04:05:50.089Z"
   },
   {
    "duration": 305,
    "start_time": "2025-04-24T04:43:02.971Z"
   },
   {
    "duration": 130,
    "start_time": "2025-04-24T04:52:32.905Z"
   },
   {
    "duration": 56,
    "start_time": "2025-04-24T04:53:12.325Z"
   },
   {
    "duration": 915,
    "start_time": "2025-04-25T02:10:33.420Z"
   },
   {
    "duration": 1625,
    "start_time": "2025-04-25T02:12:18.553Z"
   },
   {
    "duration": 3,
    "start_time": "2025-04-25T02:12:20.180Z"
   },
   {
    "duration": 235,
    "start_time": "2025-04-25T02:12:20.185Z"
   },
   {
    "duration": 23,
    "start_time": "2025-04-25T02:12:20.422Z"
   },
   {
    "duration": 12,
    "start_time": "2025-04-25T02:12:20.448Z"
   },
   {
    "duration": 13,
    "start_time": "2025-04-25T02:12:20.461Z"
   },
   {
    "duration": 6,
    "start_time": "2025-04-25T02:12:20.476Z"
   },
   {
    "duration": 317,
    "start_time": "2025-04-25T02:12:20.484Z"
   },
   {
    "duration": 407,
    "start_time": "2025-04-25T02:12:20.803Z"
   },
   {
    "duration": 0,
    "start_time": "2025-04-25T02:12:21.219Z"
   },
   {
    "duration": 0,
    "start_time": "2025-04-25T02:12:21.220Z"
   },
   {
    "duration": 0,
    "start_time": "2025-04-25T02:12:21.221Z"
   },
   {
    "duration": 0,
    "start_time": "2025-04-25T02:12:21.221Z"
   },
   {
    "duration": 0,
    "start_time": "2025-04-25T02:12:21.222Z"
   },
   {
    "duration": 0,
    "start_time": "2025-04-25T02:12:21.227Z"
   },
   {
    "duration": 124,
    "start_time": "2025-04-25T02:20:47.933Z"
   },
   {
    "duration": 418,
    "start_time": "2025-04-25T02:26:57.210Z"
   },
   {
    "duration": 178,
    "start_time": "2025-04-25T02:29:04.237Z"
   },
   {
    "duration": 225,
    "start_time": "2025-04-25T02:32:04.463Z"
   },
   {
    "duration": 131,
    "start_time": "2025-04-25T02:34:41.879Z"
   },
   {
    "duration": 16,
    "start_time": "2025-04-25T02:55:29.647Z"
   },
   {
    "duration": 511,
    "start_time": "2025-04-25T02:55:39.693Z"
   },
   {
    "duration": 922,
    "start_time": "2025-04-25T02:57:15.764Z"
   },
   {
    "duration": 111,
    "start_time": "2025-04-25T02:57:38.934Z"
   },
   {
    "duration": 184,
    "start_time": "2025-04-25T02:57:41.558Z"
   },
   {
    "duration": 101,
    "start_time": "2025-04-25T02:57:44.026Z"
   },
   {
    "duration": 110,
    "start_time": "2025-04-25T02:57:45.982Z"
   },
   {
    "duration": 650,
    "start_time": "2025-04-25T02:57:48.775Z"
   },
   {
    "duration": 14,
    "start_time": "2025-04-25T02:59:30.004Z"
   },
   {
    "duration": 17,
    "start_time": "2025-04-25T03:00:13.569Z"
   },
   {
    "duration": 631,
    "start_time": "2025-04-25T03:00:37.591Z"
   },
   {
    "duration": 6,
    "start_time": "2025-04-25T03:01:26.884Z"
   },
   {
    "duration": 15,
    "start_time": "2025-04-25T03:01:31.871Z"
   },
   {
    "duration": 220,
    "start_time": "2025-04-25T03:01:43.379Z"
   },
   {
    "duration": 221,
    "start_time": "2025-04-25T03:02:18.769Z"
   },
   {
    "duration": 225,
    "start_time": "2025-04-25T03:02:21.701Z"
   },
   {
    "duration": 393,
    "start_time": "2025-04-25T03:02:39.437Z"
   },
   {
    "duration": 2,
    "start_time": "2025-04-25T03:09:42.982Z"
   },
   {
    "duration": 3,
    "start_time": "2025-04-25T03:09:45.949Z"
   },
   {
    "duration": 3,
    "start_time": "2025-04-25T03:10:03.672Z"
   },
   {
    "duration": 14,
    "start_time": "2025-04-25T03:10:41.176Z"
   },
   {
    "duration": 3,
    "start_time": "2025-04-25T03:10:45.474Z"
   },
   {
    "duration": 3,
    "start_time": "2025-04-25T03:10:47.561Z"
   },
   {
    "duration": 13,
    "start_time": "2025-04-25T03:10:51.902Z"
   },
   {
    "duration": 234,
    "start_time": "2025-04-25T03:11:20.787Z"
   },
   {
    "duration": 109,
    "start_time": "2025-04-25T03:16:40.809Z"
   },
   {
    "duration": 118,
    "start_time": "2025-04-25T03:16:42.860Z"
   },
   {
    "duration": 4,
    "start_time": "2025-04-25T03:19:16.590Z"
   },
   {
    "duration": 206,
    "start_time": "2025-04-25T03:19:26.332Z"
   },
   {
    "duration": 2,
    "start_time": "2025-04-25T03:27:46.153Z"
   },
   {
    "duration": 5,
    "start_time": "2025-04-25T03:28:16.939Z"
   },
   {
    "duration": 3,
    "start_time": "2025-04-25T03:30:20.120Z"
   },
   {
    "duration": 288,
    "start_time": "2025-04-25T03:31:03.923Z"
   },
   {
    "duration": 268,
    "start_time": "2025-04-25T03:31:10.370Z"
   },
   {
    "duration": 28,
    "start_time": "2025-04-25T03:32:15.191Z"
   },
   {
    "duration": 600,
    "start_time": "2025-04-25T03:33:34.301Z"
   },
   {
    "duration": 132,
    "start_time": "2025-04-25T03:33:41.138Z"
   },
   {
    "duration": 10,
    "start_time": "2025-04-25T03:33:59.962Z"
   },
   {
    "duration": 707,
    "start_time": "2025-04-26T00:09:26.070Z"
   },
   {
    "duration": 6,
    "start_time": "2025-04-26T00:09:34.439Z"
   },
   {
    "duration": 231,
    "start_time": "2025-04-26T00:23:31.187Z"
   },
   {
    "duration": 1687,
    "start_time": "2025-04-26T00:24:13.398Z"
   },
   {
    "duration": 4,
    "start_time": "2025-04-26T00:24:15.087Z"
   },
   {
    "duration": 270,
    "start_time": "2025-04-26T00:24:15.092Z"
   },
   {
    "duration": 15,
    "start_time": "2025-04-26T00:24:15.364Z"
   },
   {
    "duration": 13,
    "start_time": "2025-04-26T00:24:15.381Z"
   },
   {
    "duration": 14,
    "start_time": "2025-04-26T00:24:15.395Z"
   },
   {
    "duration": 8,
    "start_time": "2025-04-26T00:24:15.411Z"
   },
   {
    "duration": 441,
    "start_time": "2025-04-26T00:24:15.421Z"
   },
   {
    "duration": 155,
    "start_time": "2025-04-26T00:24:15.868Z"
   },
   {
    "duration": 14,
    "start_time": "2025-04-26T00:24:16.025Z"
   },
   {
    "duration": 142,
    "start_time": "2025-04-26T00:24:16.040Z"
   },
   {
    "duration": 329,
    "start_time": "2025-04-26T00:24:16.184Z"
   },
   {
    "duration": 53,
    "start_time": "2025-04-26T00:24:16.515Z"
   },
   {
    "duration": 5,
    "start_time": "2025-04-26T00:24:16.571Z"
   },
   {
    "duration": 4,
    "start_time": "2025-04-26T00:24:16.577Z"
   },
   {
    "duration": 297,
    "start_time": "2025-04-26T00:24:16.583Z"
   },
   {
    "duration": 3,
    "start_time": "2025-04-26T00:24:16.881Z"
   },
   {
    "duration": 4,
    "start_time": "2025-04-26T00:24:16.886Z"
   },
   {
    "duration": 310,
    "start_time": "2025-04-26T00:24:16.892Z"
   },
   {
    "duration": 344,
    "start_time": "2025-04-26T00:24:51.006Z"
   },
   {
    "duration": 4,
    "start_time": "2025-04-26T00:25:28.812Z"
   },
   {
    "duration": 4,
    "start_time": "2025-04-26T00:26:02.295Z"
   },
   {
    "duration": 246,
    "start_time": "2025-04-26T00:28:39.803Z"
   },
   {
    "duration": 4,
    "start_time": "2025-04-26T00:40:06.753Z"
   },
   {
    "duration": 103,
    "start_time": "2025-04-26T00:57:53.728Z"
   },
   {
    "duration": 35,
    "start_time": "2025-04-26T00:58:19.944Z"
   },
   {
    "duration": 34,
    "start_time": "2025-04-26T00:58:56.207Z"
   },
   {
    "duration": 167,
    "start_time": "2025-04-26T01:27:39.607Z"
   },
   {
    "duration": 3233,
    "start_time": "2025-04-26T01:27:53.893Z"
   },
   {
    "duration": 2919,
    "start_time": "2025-04-26T01:27:57.128Z"
   },
   {
    "duration": 371,
    "start_time": "2025-04-26T01:28:00.049Z"
   },
   {
    "duration": 15,
    "start_time": "2025-04-26T01:28:00.422Z"
   },
   {
    "duration": 13,
    "start_time": "2025-04-26T01:28:00.440Z"
   },
   {
    "duration": 13,
    "start_time": "2025-04-26T01:28:00.455Z"
   },
   {
    "duration": 9,
    "start_time": "2025-04-26T01:28:00.470Z"
   },
   {
    "duration": 337,
    "start_time": "2025-04-26T01:28:00.481Z"
   },
   {
    "duration": 117,
    "start_time": "2025-04-26T01:28:00.819Z"
   },
   {
    "duration": 8,
    "start_time": "2025-04-26T01:28:00.938Z"
   },
   {
    "duration": 150,
    "start_time": "2025-04-26T01:28:00.948Z"
   },
   {
    "duration": 272,
    "start_time": "2025-04-26T01:28:01.101Z"
   },
   {
    "duration": 25,
    "start_time": "2025-04-26T01:28:01.375Z"
   },
   {
    "duration": 4,
    "start_time": "2025-04-26T01:28:01.403Z"
   },
   {
    "duration": 16,
    "start_time": "2025-04-26T01:28:01.409Z"
   },
   {
    "duration": 275,
    "start_time": "2025-04-26T01:28:01.427Z"
   },
   {
    "duration": 5,
    "start_time": "2025-04-26T01:28:01.704Z"
   },
   {
    "duration": 17,
    "start_time": "2025-04-26T01:28:01.710Z"
   },
   {
    "duration": 298,
    "start_time": "2025-04-26T01:28:01.729Z"
   },
   {
    "duration": 4,
    "start_time": "2025-04-26T01:28:02.028Z"
   },
   {
    "duration": 252,
    "start_time": "2025-04-26T01:28:02.034Z"
   },
   {
    "duration": 4,
    "start_time": "2025-04-26T01:28:02.288Z"
   },
   {
    "duration": 287,
    "start_time": "2025-04-26T01:28:02.294Z"
   },
   {
    "duration": 0,
    "start_time": "2025-04-26T01:28:02.583Z"
   },
   {
    "duration": 0,
    "start_time": "2025-04-26T01:28:02.585Z"
   },
   {
    "duration": 0,
    "start_time": "2025-04-26T01:28:02.586Z"
   },
   {
    "duration": 0,
    "start_time": "2025-04-26T01:28:02.587Z"
   },
   {
    "duration": 0,
    "start_time": "2025-04-26T01:28:02.588Z"
   },
   {
    "duration": 32,
    "start_time": "2025-04-26T01:29:19.675Z"
   },
   {
    "duration": 14,
    "start_time": "2025-04-26T01:30:22.664Z"
   },
   {
    "duration": 3,
    "start_time": "2025-04-26T01:31:08.780Z"
   },
   {
    "duration": 112,
    "start_time": "2025-04-26T01:31:11.576Z"
   },
   {
    "duration": 14,
    "start_time": "2025-04-26T01:31:31.894Z"
   },
   {
    "duration": 79,
    "start_time": "2025-04-26T01:31:48.040Z"
   },
   {
    "duration": 288,
    "start_time": "2025-04-26T01:31:58.481Z"
   },
   {
    "duration": 932,
    "start_time": "2025-04-26T01:32:00.971Z"
   },
   {
    "duration": 51,
    "start_time": "2025-04-26T01:32:18.955Z"
   },
   {
    "duration": 379,
    "start_time": "2025-04-26T01:32:31.746Z"
   },
   {
    "duration": 1660,
    "start_time": "2025-04-26T01:32:59.543Z"
   },
   {
    "duration": 1008,
    "start_time": "2025-04-26T01:33:01.205Z"
   },
   {
    "duration": 557,
    "start_time": "2025-04-26T01:33:02.215Z"
   },
   {
    "duration": 14,
    "start_time": "2025-04-26T01:33:02.774Z"
   },
   {
    "duration": 11,
    "start_time": "2025-04-26T01:33:02.790Z"
   },
   {
    "duration": 27,
    "start_time": "2025-04-26T01:33:02.803Z"
   },
   {
    "duration": 10,
    "start_time": "2025-04-26T01:33:02.832Z"
   },
   {
    "duration": 287,
    "start_time": "2025-04-26T01:33:02.843Z"
   },
   {
    "duration": 121,
    "start_time": "2025-04-26T01:33:03.132Z"
   },
   {
    "duration": 8,
    "start_time": "2025-04-26T01:33:03.256Z"
   },
   {
    "duration": 140,
    "start_time": "2025-04-26T01:33:03.265Z"
   },
   {
    "duration": 215,
    "start_time": "2025-04-26T01:33:03.407Z"
   },
   {
    "duration": 27,
    "start_time": "2025-04-26T01:33:03.624Z"
   },
   {
    "duration": 2,
    "start_time": "2025-04-26T01:33:03.653Z"
   },
   {
    "duration": 5,
    "start_time": "2025-04-26T01:33:03.656Z"
   },
   {
    "duration": 269,
    "start_time": "2025-04-26T01:33:03.663Z"
   },
   {
    "duration": 4,
    "start_time": "2025-04-26T01:33:03.935Z"
   },
   {
    "duration": 3,
    "start_time": "2025-04-26T01:33:03.941Z"
   },
   {
    "duration": 240,
    "start_time": "2025-04-26T01:33:03.946Z"
   },
   {
    "duration": 4,
    "start_time": "2025-04-26T01:33:04.188Z"
   },
   {
    "duration": 257,
    "start_time": "2025-04-26T01:33:04.193Z"
   },
   {
    "duration": 3,
    "start_time": "2025-04-26T01:33:04.452Z"
   },
   {
    "duration": 239,
    "start_time": "2025-04-26T01:33:04.457Z"
   },
   {
    "duration": 388,
    "start_time": "2025-04-26T01:33:04.697Z"
   },
   {
    "duration": 171,
    "start_time": "2025-04-26T01:33:29.072Z"
   },
   {
    "duration": 1843,
    "start_time": "2025-04-26T01:33:38.428Z"
   },
   {
    "duration": 1231,
    "start_time": "2025-04-26T01:33:40.273Z"
   },
   {
    "duration": 329,
    "start_time": "2025-04-26T01:33:41.506Z"
   },
   {
    "duration": 18,
    "start_time": "2025-04-26T01:33:41.837Z"
   },
   {
    "duration": 14,
    "start_time": "2025-04-26T01:33:41.857Z"
   },
   {
    "duration": 14,
    "start_time": "2025-04-26T01:33:41.873Z"
   },
   {
    "duration": 8,
    "start_time": "2025-04-26T01:33:41.889Z"
   },
   {
    "duration": 419,
    "start_time": "2025-04-26T01:33:41.899Z"
   },
   {
    "duration": 165,
    "start_time": "2025-04-26T01:33:42.320Z"
   },
   {
    "duration": 8,
    "start_time": "2025-04-26T01:33:42.490Z"
   },
   {
    "duration": 150,
    "start_time": "2025-04-26T01:33:42.499Z"
   },
   {
    "duration": 253,
    "start_time": "2025-04-26T01:33:42.650Z"
   },
   {
    "duration": 55,
    "start_time": "2025-04-26T01:33:42.905Z"
   },
   {
    "duration": 3,
    "start_time": "2025-04-26T01:33:42.961Z"
   },
   {
    "duration": 4,
    "start_time": "2025-04-26T01:33:42.965Z"
   },
   {
    "duration": 300,
    "start_time": "2025-04-26T01:33:42.971Z"
   },
   {
    "duration": 5,
    "start_time": "2025-04-26T01:33:43.273Z"
   },
   {
    "duration": 3,
    "start_time": "2025-04-26T01:33:43.281Z"
   },
   {
    "duration": 305,
    "start_time": "2025-04-26T01:33:43.286Z"
   },
   {
    "duration": 4,
    "start_time": "2025-04-26T01:33:43.593Z"
   },
   {
    "duration": 264,
    "start_time": "2025-04-26T01:33:43.599Z"
   },
   {
    "duration": 5,
    "start_time": "2025-04-26T01:33:43.866Z"
   },
   {
    "duration": 286,
    "start_time": "2025-04-26T01:33:43.873Z"
   },
   {
    "duration": 402,
    "start_time": "2025-04-26T01:33:44.160Z"
   },
   {
    "duration": 240,
    "start_time": "2025-04-26T01:34:03.914Z"
   },
   {
    "duration": 15,
    "start_time": "2025-04-26T01:34:09.429Z"
   },
   {
    "duration": 1338,
    "start_time": "2025-04-26T01:34:33.355Z"
   },
   {
    "duration": 91,
    "start_time": "2025-04-26T01:34:37.320Z"
   },
   {
    "duration": 23,
    "start_time": "2025-04-26T01:34:41.617Z"
   },
   {
    "duration": 313,
    "start_time": "2025-04-26T01:34:44.046Z"
   },
   {
    "duration": 18,
    "start_time": "2025-04-26T01:34:45.873Z"
   },
   {
    "duration": 15,
    "start_time": "2025-04-26T01:34:48.194Z"
   },
   {
    "duration": 17,
    "start_time": "2025-04-26T01:34:50.551Z"
   },
   {
    "duration": 18,
    "start_time": "2025-04-26T01:34:56.816Z"
   },
   {
    "duration": 1547,
    "start_time": "2025-04-26T01:35:07.077Z"
   },
   {
    "duration": 3,
    "start_time": "2025-04-26T01:35:08.627Z"
   },
   {
    "duration": 228,
    "start_time": "2025-04-26T01:35:08.631Z"
   },
   {
    "duration": 15,
    "start_time": "2025-04-26T01:35:08.861Z"
   },
   {
    "duration": 11,
    "start_time": "2025-04-26T01:35:08.878Z"
   },
   {
    "duration": 12,
    "start_time": "2025-04-26T01:35:08.891Z"
   },
   {
    "duration": 25,
    "start_time": "2025-04-26T01:35:08.905Z"
   },
   {
    "duration": 271,
    "start_time": "2025-04-26T01:35:08.931Z"
   },
   {
    "duration": 106,
    "start_time": "2025-04-26T01:35:09.204Z"
   },
   {
    "duration": 14,
    "start_time": "2025-04-26T01:35:09.311Z"
   },
   {
    "duration": 133,
    "start_time": "2025-04-26T01:35:09.326Z"
   },
   {
    "duration": 232,
    "start_time": "2025-04-26T01:35:09.460Z"
   },
   {
    "duration": 32,
    "start_time": "2025-04-26T01:35:09.693Z"
   },
   {
    "duration": 4,
    "start_time": "2025-04-26T01:35:09.730Z"
   },
   {
    "duration": 5,
    "start_time": "2025-04-26T01:35:09.736Z"
   },
   {
    "duration": 237,
    "start_time": "2025-04-26T01:35:09.743Z"
   },
   {
    "duration": 6,
    "start_time": "2025-04-26T01:35:09.982Z"
   },
   {
    "duration": 4,
    "start_time": "2025-04-26T01:35:09.989Z"
   },
   {
    "duration": 243,
    "start_time": "2025-04-26T01:35:09.995Z"
   },
   {
    "duration": 3,
    "start_time": "2025-04-26T01:35:10.240Z"
   },
   {
    "duration": 253,
    "start_time": "2025-04-26T01:35:10.245Z"
   },
   {
    "duration": 4,
    "start_time": "2025-04-26T01:35:10.499Z"
   },
   {
    "duration": 225,
    "start_time": "2025-04-26T01:35:10.505Z"
   },
   {
    "duration": 377,
    "start_time": "2025-04-26T01:35:15.431Z"
   },
   {
    "duration": 155,
    "start_time": "2025-04-26T01:35:23.400Z"
   },
   {
    "duration": 12,
    "start_time": "2025-04-26T01:35:25.322Z"
   },
   {
    "duration": 1679,
    "start_time": "2025-04-30T01:13:22.912Z"
   },
   {
    "duration": 3001,
    "start_time": "2025-04-30T01:13:24.594Z"
   },
   {
    "duration": 324,
    "start_time": "2025-04-30T01:13:27.597Z"
   },
   {
    "duration": 20,
    "start_time": "2025-04-30T01:13:27.923Z"
   },
   {
    "duration": 15,
    "start_time": "2025-04-30T01:13:27.947Z"
   },
   {
    "duration": 15,
    "start_time": "2025-04-30T01:13:27.963Z"
   },
   {
    "duration": 11,
    "start_time": "2025-04-30T01:13:27.981Z"
   },
   {
    "duration": 457,
    "start_time": "2025-04-30T01:13:27.994Z"
   },
   {
    "duration": 213,
    "start_time": "2025-04-30T01:13:28.453Z"
   },
   {
    "duration": 9,
    "start_time": "2025-04-30T01:13:28.668Z"
   },
   {
    "duration": 188,
    "start_time": "2025-04-30T01:13:28.679Z"
   },
   {
    "duration": 314,
    "start_time": "2025-04-30T01:13:28.869Z"
   },
   {
    "duration": 27,
    "start_time": "2025-04-30T01:13:29.185Z"
   },
   {
    "duration": 3,
    "start_time": "2025-04-30T01:13:29.232Z"
   },
   {
    "duration": 4,
    "start_time": "2025-04-30T01:13:29.237Z"
   },
   {
    "duration": 329,
    "start_time": "2025-04-30T01:13:29.244Z"
   },
   {
    "duration": 81,
    "start_time": "2025-04-30T01:13:29.574Z"
   },
   {
    "duration": 4,
    "start_time": "2025-04-30T01:13:29.657Z"
   },
   {
    "duration": 347,
    "start_time": "2025-04-30T01:13:29.663Z"
   },
   {
    "duration": 4,
    "start_time": "2025-04-30T01:13:30.011Z"
   },
   {
    "duration": 242,
    "start_time": "2025-04-30T01:13:30.016Z"
   },
   {
    "duration": 5,
    "start_time": "2025-04-30T01:13:30.260Z"
   },
   {
    "duration": 335,
    "start_time": "2025-04-30T01:13:30.266Z"
   },
   {
    "duration": 1,
    "start_time": "2025-04-30T01:13:30.603Z"
   },
   {
    "duration": 0,
    "start_time": "2025-04-30T01:13:30.605Z"
   },
   {
    "duration": 0,
    "start_time": "2025-04-30T01:13:30.606Z"
   },
   {
    "duration": 0,
    "start_time": "2025-04-30T01:13:30.608Z"
   },
   {
    "duration": 0,
    "start_time": "2025-04-30T01:13:30.609Z"
   },
   {
    "duration": 1,
    "start_time": "2025-04-30T01:13:30.610Z"
   },
   {
    "duration": 0,
    "start_time": "2025-04-30T01:13:30.612Z"
   },
   {
    "duration": 3,
    "start_time": "2025-04-30T01:25:01.283Z"
   },
   {
    "duration": 19,
    "start_time": "2025-04-30T01:25:04.959Z"
   },
   {
    "duration": 3,
    "start_time": "2025-04-30T01:28:45.800Z"
   },
   {
    "duration": 1738,
    "start_time": "2025-04-30T01:30:05.766Z"
   },
   {
    "duration": 4,
    "start_time": "2025-04-30T01:30:10.931Z"
   },
   {
    "duration": 17,
    "start_time": "2025-04-30T01:34:31.725Z"
   },
   {
    "duration": 14,
    "start_time": "2025-04-30T01:34:45.160Z"
   },
   {
    "duration": 92,
    "start_time": "2025-04-30T01:37:40.746Z"
   },
   {
    "duration": 14,
    "start_time": "2025-04-30T01:45:16.977Z"
   },
   {
    "duration": 667,
    "start_time": "2025-05-02T02:28:46.531Z"
   },
   {
    "duration": 2183,
    "start_time": "2025-05-02T02:28:54.684Z"
   },
   {
    "duration": 293,
    "start_time": "2025-05-02T02:28:57.590Z"
   },
   {
    "duration": 15,
    "start_time": "2025-05-02T02:29:00.389Z"
   },
   {
    "duration": 13,
    "start_time": "2025-05-02T02:29:03.008Z"
   },
   {
    "duration": 263,
    "start_time": "2025-05-02T02:29:07.928Z"
   },
   {
    "duration": 4,
    "start_time": "2025-05-02T02:29:15.537Z"
   },
   {
    "duration": 4,
    "start_time": "2025-05-02T02:29:22.356Z"
   },
   {
    "duration": 285,
    "start_time": "2025-05-02T02:30:54.431Z"
   },
   {
    "duration": 22,
    "start_time": "2025-05-02T02:31:18.488Z"
   },
   {
    "duration": 4,
    "start_time": "2025-05-02T02:31:24.679Z"
   },
   {
    "duration": 62,
    "start_time": "2025-05-02T02:31:26.162Z"
   },
   {
    "duration": 13,
    "start_time": "2025-05-02T02:32:51.869Z"
   },
   {
    "duration": 3,
    "start_time": "2025-05-02T02:32:53.294Z"
   },
   {
    "duration": 5,
    "start_time": "2025-05-02T02:32:54.718Z"
   },
   {
    "duration": 4,
    "start_time": "2025-05-02T02:36:09.968Z"
   },
   {
    "duration": 7,
    "start_time": "2025-05-02T02:36:30.143Z"
   },
   {
    "duration": 5,
    "start_time": "2025-05-02T02:36:48.295Z"
   },
   {
    "duration": 5,
    "start_time": "2025-05-02T02:37:01.329Z"
   },
   {
    "duration": 14,
    "start_time": "2025-05-02T02:37:03.415Z"
   },
   {
    "duration": 431,
    "start_time": "2025-05-02T02:41:53.711Z"
   },
   {
    "duration": 220,
    "start_time": "2025-05-02T02:44:47.911Z"
   },
   {
    "duration": 109,
    "start_time": "2025-05-02T02:44:50.311Z"
   },
   {
    "duration": 10,
    "start_time": "2025-05-02T02:44:52.952Z"
   },
   {
    "duration": 19,
    "start_time": "2025-05-02T02:44:55.102Z"
   },
   {
    "duration": 10,
    "start_time": "2025-05-02T02:44:58.662Z"
   },
   {
    "duration": 63,
    "start_time": "2025-05-02T02:45:00.564Z"
   },
   {
    "duration": 216,
    "start_time": "2025-05-02T02:45:02.715Z"
   },
   {
    "duration": 216,
    "start_time": "2025-05-02T02:45:05.062Z"
   },
   {
    "duration": 10,
    "start_time": "2025-05-02T02:45:08.598Z"
   },
   {
    "duration": 21,
    "start_time": "2025-05-02T02:45:11.073Z"
   },
   {
    "duration": 19,
    "start_time": "2025-05-02T02:45:13.397Z"
   },
   {
    "duration": 10,
    "start_time": "2025-05-02T02:45:37.784Z"
   },
   {
    "duration": 45,
    "start_time": "2025-05-02T02:47:48.900Z"
   },
   {
    "duration": 9271,
    "start_time": "2025-05-06T17:01:25.912Z"
   },
   {
    "duration": 2817,
    "start_time": "2025-05-06T17:01:35.186Z"
   },
   {
    "duration": 304,
    "start_time": "2025-05-06T17:01:38.005Z"
   },
   {
    "duration": 15,
    "start_time": "2025-05-06T17:01:38.311Z"
   },
   {
    "duration": 12,
    "start_time": "2025-05-06T17:01:38.329Z"
   },
   {
    "duration": 13,
    "start_time": "2025-05-06T17:01:38.344Z"
   },
   {
    "duration": 9,
    "start_time": "2025-05-06T17:01:38.359Z"
   },
   {
    "duration": 450,
    "start_time": "2025-05-06T17:01:38.369Z"
   },
   {
    "duration": 152,
    "start_time": "2025-05-06T17:01:38.822Z"
   },
   {
    "duration": 8,
    "start_time": "2025-05-06T17:01:38.976Z"
   },
   {
    "duration": 208,
    "start_time": "2025-05-06T17:01:38.986Z"
   },
   {
    "duration": 332,
    "start_time": "2025-05-06T17:01:39.196Z"
   },
   {
    "duration": 27,
    "start_time": "2025-05-06T17:01:39.530Z"
   },
   {
    "duration": 3,
    "start_time": "2025-05-06T17:01:39.560Z"
   },
   {
    "duration": 4,
    "start_time": "2025-05-06T17:01:39.565Z"
   },
   {
    "duration": 322,
    "start_time": "2025-05-06T17:01:39.570Z"
   },
   {
    "duration": 5,
    "start_time": "2025-05-06T17:01:39.894Z"
   },
   {
    "duration": 12,
    "start_time": "2025-05-06T17:01:39.901Z"
   },
   {
    "duration": 298,
    "start_time": "2025-05-06T17:01:39.915Z"
   },
   {
    "duration": 3,
    "start_time": "2025-05-06T17:01:40.215Z"
   },
   {
    "duration": 246,
    "start_time": "2025-05-06T17:01:40.220Z"
   },
   {
    "duration": 4,
    "start_time": "2025-05-06T17:01:40.467Z"
   },
   {
    "duration": 241,
    "start_time": "2025-05-06T17:01:40.473Z"
   },
   {
    "duration": 3,
    "start_time": "2025-05-06T17:01:51.309Z"
   },
   {
    "duration": 1657,
    "start_time": "2025-05-06T17:03:08.918Z"
   },
   {
    "duration": 229,
    "start_time": "2025-05-06T17:03:11.287Z"
   }
  ],
  "kernelspec": {
   "display_name": "Python 3 (ipykernel)",
   "language": "python",
   "name": "python3"
  },
  "language_info": {
   "codemirror_mode": {
    "name": "ipython",
    "version": 3
   },
   "file_extension": ".py",
   "mimetype": "text/x-python",
   "name": "python",
   "nbconvert_exporter": "python",
   "pygments_lexer": "ipython3",
   "version": "3.9.22"
  },
  "toc": {
   "base_numbering": 1,
   "nav_menu": {},
   "number_sections": true,
   "sideBar": true,
   "skip_h1_title": true,
   "title_cell": "Table of Contents",
   "title_sidebar": "Contents",
   "toc_cell": false,
   "toc_position": {},
   "toc_section_display": true,
   "toc_window_display": false
  }
 },
 "nbformat": 4,
 "nbformat_minor": 4
}
